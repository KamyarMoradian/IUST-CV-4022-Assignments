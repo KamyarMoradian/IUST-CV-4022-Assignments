{
  "nbformat": 4,
  "nbformat_minor": 0,
  "metadata": {
    "colab": {
      "provenance": []
    },
    "kernelspec": {
      "name": "python3",
      "display_name": "Python 3"
    },
    "language_info": {
      "name": "python"
    }
  },
  "cells": [
    {
      "cell_type": "code",
      "execution_count": 12,
      "metadata": {
        "id": "KIg7ZPUSUcC4"
      },
      "outputs": [],
      "source": [
        "import cv2\n",
        "from google.colab.patches import cv2_imshow\n",
        "import numpy as np"
      ]
    },
    {
      "cell_type": "code",
      "source": [
        "img1 = cv2.imread('q1.png', cv2.IMREAD_GRAYSCALE) # Read image in grayscale\n",
        "cv2_imshow(img1) # Showing image using opencv. It was not showing correct image using matplotlib."
      ],
      "metadata": {
        "colab": {
          "base_uri": "https://localhost:8080/",
          "height": 497
        },
        "id": "aumZtCmfUpXX",
        "outputId": "a6bdbefb-98df-4629-c3bc-4eb44873b8b2"
      },
      "execution_count": 11,
      "outputs": [
        {
          "output_type": "display_data",
          "data": {
            "text/plain": [
              "<PIL.Image.Image image mode=L size=640x480>"
            ],
            "image/png": "[encoded data removed]"
          },
          "metadata": {}
        }
      ]
    },
    {
      "cell_type": "code",
      "source": [
        "count_labels, labels = cv2.connectedComponents(img1) # We get connected components\n",
        "rows, cols = img1.shape"
      ],
      "metadata": {
        "id": "Ok1AzLbHteAH"
      },
      "execution_count": 33,
      "outputs": []
    },
    {
      "cell_type": "code",
      "source": [
        "# We need to convert image to bgr to show each label on it.\n",
        "img1_color = cv2.cvtColor(img1, cv2.COLOR_GRAY2RGB)\n",
        "img1_color = cv2.cvtColor(img1_color, cv2.COLOR_RGB2BGR)"
      ],
      "metadata": {
        "id": "UBJ2gNziteXT"
      },
      "execution_count": 59,
      "outputs": []
    },
    {
      "cell_type": "code",
      "source": [
        "# A function to return colors\n",
        "def get_random_color(count):\n",
        "    ret_list = []\n",
        "    for i in range(count):\n",
        "        ret_list.append(np.random.randint(0, 256, size=3).tolist())\n",
        "    return ret_list"
      ],
      "metadata": {
        "id": "KQCyl_h5udvp"
      },
      "execution_count": 60,
      "outputs": []
    },
    {
      "cell_type": "code",
      "source": [
        "colors = get_random_color(count_labels)\n",
        "\n",
        "# replace each pixle based on its label\n",
        "for i in range(rows):\n",
        "    for j in range(cols):\n",
        "        if labels[i, j] != 0:\n",
        "            img1_color[i, j] = colors[labels[i, j] - 1]\n",
        "\n",
        "cv2_imshow(img1_color)"
      ],
      "metadata": {
        "colab": {
          "base_uri": "https://localhost:8080/",
          "height": 497
        },
        "id": "-VeXiho0q1VD",
        "outputId": "a2c0cbb0-c29c-4d8f-c7c9-e290c89070c6"
      },
      "execution_count": 61,
      "outputs": [
        {
          "output_type": "display_data",
          "data": {
            "text/plain": [
              "<PIL.Image.Image image mode=RGB size=640x480>"
            ],
            "image/png": "[encoded data removed]"
          },
          "metadata": {}
        }
      ]
    },
    {
      "cell_type": "code",
      "source": [
        "# Define the text to draw\n",
        "text = 'Number of connected components: ' + str(count_labels)\n",
        "\n",
        "# Set the font properties\n",
        "font = cv2.FONT_HERSHEY_SIMPLEX\n",
        "font_scale = 0.5\n",
        "font_color = (0, 255, 0)  # Green color\n",
        "thickness = 2\n",
        "\n",
        "# Set the text position\n",
        "text_x = 10\n",
        "text_y = 30\n",
        "\n",
        "# Draw the text on the image\n",
        "cv2.putText(img1_color, text, (text_x, text_y), font, font_scale, font_color, thickness)"
      ],
      "metadata": {
        "colab": {
          "base_uri": "https://localhost:8080/",
          "height": 520
        },
        "id": "TU_enjnmwVR2",
        "outputId": "cffe11b9-36c9-4e63-cd16-f489438c8f82"
      },
      "execution_count": 62,
      "outputs": [
        {
          "output_type": "execute_result",
          "data": {
            "text/plain": [
              "array([[[0, 0, 0],\n",
              "        [0, 0, 0],\n",
              "        [0, 0, 0],\n",
              "        ...,\n",
              "        [0, 0, 0],\n",
              "        [0, 0, 0],\n",
              "        [0, 0, 0]],\n",
              "\n",
              "       [[0, 0, 0],\n",
              "        [0, 0, 0],\n",
              "        [0, 0, 0],\n",
              "        ...,\n",
              "        [0, 0, 0],\n",
              "        [0, 0, 0],\n",
              "        [0, 0, 0]],\n",
              "\n",
              "       [[0, 0, 0],\n",
              "        [0, 0, 0],\n",
              "        [0, 0, 0],\n",
              "        ...,\n",
              "        [0, 0, 0],\n",
              "        [0, 0, 0],\n",
              "        [0, 0, 0]],\n",
              "\n",
              "       ...,\n",
              "\n",
              "       [[0, 0, 0],\n",
              "        [0, 0, 0],\n",
              "        [0, 0, 0],\n",
              "        ...,\n",
              "        [0, 0, 0],\n",
              "        [0, 0, 0],\n",
              "        [0, 0, 0]],\n",
              "\n",
              "       [[0, 0, 0],\n",
              "        [0, 0, 0],\n",
              "        [0, 0, 0],\n",
              "        ...,\n",
              "        [0, 0, 0],\n",
              "        [0, 0, 0],\n",
              "        [0, 0, 0]],\n",
              "\n",
              "       [[0, 0, 0],\n",
              "        [0, 0, 0],\n",
              "        [0, 0, 0],\n",
              "        ...,\n",
              "        [0, 0, 0],\n",
              "        [0, 0, 0],\n",
              "        [0, 0, 0]]], dtype=uint8)"
            ],
            "text/html": [
              "<style>\n",
              "      .ndarray_repr .ndarray_raw_data {\n",
              "        display: none;\n",
              "      }\n",
              "      .ndarray_repr.show_array .ndarray_raw_data {\n",
              "        display: block;\n",
              "      }\n",
              "      .ndarray_repr.show_array .ndarray_image_preview {\n",
              "        display: none;\n",
              "      }\n",
              "      </style>\n",
              "      <div id=\"id-963e9ef2-6e9a-4e8d-9823-09a076ce2d0e\" class=\"ndarray_repr\"><pre>ndarray (480, 640, 3) <button style=\"padding: 0 2px;\">show data</button></pre><img src=\"data:image/png;base64,iVBORw0KGgoAAAANSUhEUgAAAoAAAAHgCAIAAAC6s0uzAAAfkklEQVR4nO3du65sV5WA4XUQGUInQZ3BK/gRsBNS3gByIgtZzjrqDFktR87xG5A6MTyCXwGylhMLOXYHZYpNXVaty7yMMef3qdU63rtO1arah/r3mOtSywIAAAAAAAAAAAAAAACw6l3vDQCAbv7+659f/vCrv/2z8UMLMADTuXb3XrMSCzAAE1lJ71sNMvyT2g8AAEFsrO+uWx4mwABMYW9TazdYgAEYX4OJdi8BBoDHqmZbgAEYXMDxdxFgAOjCaUgAlNHxohYrzo+/lZ7OT2vcKQDzuC9czBJHYwIG4KA4F7V4psje30rbv20f8A/L8sOjL9ZQ6W53bcDD55vUmScyzItQVvGX5Ye7/4MMQl3Uop56vz1sCPAPd3+4/rnGO1GNu927Afd/TurM69n9ZxFT8Zfl4V152Qkv2kUtMnIU9HOW5+lIgxlO+wYHr/7Og7B+eJKl+6+//crlz9c3lHf/+uLb/7y/w/Vv3Xz34UOseHYne6084rNvrWzqy2dx7FvL3Q9oy/3sUup1WLnx8uRbBx7l5V/c8s/p5l/4Wzdf3/ib3LN7g3iCh+0i8t7fi/0T8LOdwc8WqB9+d+U/l823/GH1IVas3Mmzm23Zto3feviVZ9869hAPn9GzXQknV90Lvg7P/vP+iZx/tVfuZ2XbHr6kL/8XIajwL83KneJXhAxL0M/e5laszBwP7+fhZH/gTta/tevezj/izfbfjJgb76f4VpVy8tU+tiX3L6m4Qjyl6lv74O1DAT785vUwCQ/v8/7GGzdm/S/erGSubM/2ZcN3TxYPV771cjtvXpmVF3z9Gd3c4fn7eabg63DsX8WZV/ut+7+45VsP7+d6g+0Pvf6zhhhO5q32bJpi9r3YE+CyByW923OfG9+Vtm9hqX2fN3dY5CU6dlc3b/eHt+TkUyjy6GX/VRy2ZWPWf+PZEn7H+kFIDc5d3jkBN36z2PJwRYJRRPt30vV3//P3c0zt16Hq/R+48/Pbo8FMpt6Qmmj8XarsAy6+n2+5Wxw+sEa66yGO3U+DxcMtz33LlpR9Dfc++vmHuCi13nDypfjhzf3cfHHjq/HwHiCqIqNhrlJWsj/A63tYS735rtzVza6yYwdnldrftrIxBXfpPdvsH1a/db+dB+5nozavw/Z/FXvv88A/p/u/+PAY6Zf3+ewexJjRFW9wwTtsc+3MQxPwylEzNazviiuy3FpqzfblYVCHrWz29m89PNh7/X4ObNVS83W4uZ/Dj1L8Lx672a5bwnAmn4M3BPjlu/z9d989+f8P7+3hze4fYuW7e/ux8gvE9rta2dSX33r4n+uvzP3drrwyz7718NlteYVXFH8dnn3l2YMefpTt/5xW/uLDXzVePtCzDV75CkQy9mccNXt22ybgh28Q9+/jb3enbczD/Vfe3d3Vs0dZfxdet/4QB+5k5dVYf/q7+rfxlXn2rb33s/GlKP46rHxl7za//M+N/5ye/cWX93P+NYShlRqCMw7T/rdOeGWPuiKM//vvFz/R//ofp0WHFmqfa5aLb7zlLY3wBHgsL7t7T4ljKjt0nilfxvou3tLI4dnhYwRzIK7byXBAQRoc/3MXHprxXe2b999e//zBd7/ouCWQSNW4bqTB0RTf83qggknru0wV4LfdvafE8FCE7r6lwdHUOPppVw7Pb0Cvg7p3fh5wTuvpvbmNEkO06DKba1NfpjHjwc9Xw/7PbEt01ykxU0kUXUNwNLUruJLhvOvPy3gBPt/dGzLMVaJEjU2AA+rS4NT1XYZZgi7e3Zt7luGZ6S689Ku//bNqg//+65+Pd/mt9O8s9dL7kBJPRXrDMgTHVLXBNwHOPv4uVT6OsJVv3n/buL69HpQu1Bf2qtqzv//656kPubqXbwk6Qv++ef+tUXhs6gsxhbr+5UmZJuBQ02ecLYHZWH+OrHvVEskR4FDpZXjGXzgjRYMjbGToAF+6Gza9YTcMoK8IeVsRZPOCBjhyd99KsZEwEuvPDCNcgLOk9yrX1vKS9WcoIsiUeS/OhkUJcPDV5nVJNxvSMf7mEid1MfUPcN7uvjXGs4DI1DcjDV7RebVtvGg5P3gAVqGjkd4BBLmGRqhfCHpeiGO8+i6u0QHl6O5Ial8sOqM+AR4yvcABKjuPy/TZMcOhxt+lyxL0DPU1BGdnFboq0aVLhmcP8Az1vdDg1AT4MHFlu5YZjlbfZcIAX7tYe0sEODsNvieuFNemwQHruzQOcN/6Pitiva3S4Ow0+EJ3qapBgwW4W4C3hLDStmnwAObMsOjSWL0Mx6zv0jLA7eu7N34azLrhSyy6dFcjwwLcNMCHm6fBAH2VbXDY+i7NAtysvkVSV2NrNRhgo4INjhzgnlfCKqhs3j747hfdj9YGmNMk9V0ifBjDeTWGy+L3qegAL011ucoWAa56nk+9pV2LxgAtzbP39yLlEnSzNJZdi/Y5DQAPTTX4XiVbgq468j57xJYPBzCbqU49eivNBNwxhI7JAqih0uCbor5Ligm4/dT7cBuK3I+QA1zMuez8VpoJGIAxVE1vlvF3STEBB2EIBjjp77/+ucH3ygS8g53BAMfM/LGDz5iA9+m+NxogHfV9SIB3O99gYzQwiWZrzunqu1iCBqC4xjt6M9Z3EeBj7AwGeKj9MVZJ67tYggagFPXdRYABKEB99xJgAM5S3wMSBDjg3taAmwTQi/oekyDA43EyMTAM9T2sxVHQjhkG4Lxh0nuRYwIerN+DPR1gWi3H38Hqu2QJMAAzG6++S7MA2+sJwDFD1ncxAXfh1xFgAC7yfFKaS1F+8/5b3QKYx8DpvWgXYMdCA7DF8Om9SDMBAxDKr/72z7Kr0JN090qAdzPHA5Q1W3ovMgV4jN3AAzwFgFLmTO9F06OgB2iP8Rfg6kw+f/W3f85c3yXXBLz0HoLVF+C8ybt7le88YBUEiGNvTdX3qnWA865CCz/AQ9ubqr5vvWv/kEVK1j7kSTebsv76sz9c/vDh91/03RIIaOWsJOm9l2wfMHRx7e79V5QYrq6VvZZYd1d0mICXEtNk41Gy1PqzCTid+/Q+JMPAXvkOwrrIuEdWfdPZWN9dtwS46BPgXCnKGHvO29tUDQZ2yToBp5Prdw4AausW4CxBMv7O6dg4awgGtks8AddO4zfvv3XsFQCV9Azw+SzVa3DBe1ZfAO4lnoArKTj4ktSZlWSr0MBG6QNcNpbF02v8BeAhV8L6kakXgJY6B/iD737RsXyiC0AvI0zAuz4kuGV0rT8D8MwIAV4eZfUaP2Mu0N7Xn3388jYfffJ59e0gsD4fxnBjyEYaf/M6eSSzD2aY2ZbuFiHeAxhkAgboqFl37x/xZYlvtk254wgxAS/DDcHG39RMwGzUvrsFKXF3JmCA3VKn92L7DE0lAlye8ReGNEB0H7o8LxluL8oS9DLKKrT6DsASNFejRvcZGW7JBFyS+kJSs4X2ma8/+1iDmxHgMqQXItPX7axINxNoCXrJuQotveOxBJ2d3JYiw1WZgE9RX+hObuuxIl1VrAl4yTMES+/ATMDxiW5LGlxJuAAvGRqsvmMT4LB0txcNrsES9G7qC2WtXytRdCOwFl1DxAl4CTwEq+8MTMBtKGtGMlxQ0AAv8RosvfMQ4Kp0NzsNLiVugJcwDZbe2QhwDbo7Eg0uInSAl64N1t1pCXBZ0jskDT4veoAv2mRYcbkQ4ILUd2AafFKOAF8VL7Hock+AS1Hf4WnwGclOQ3rYy71VFl0Auks2AW90k2TFZRcTcBHG32V1QBzm9TEEH5ZsAt5IcYGOtjTpTLeGiffkxgwwQBdtxsHro2ws8eX2lbLtIlmHCTBQ3mwjWq8C7XrcqhnmAAEGOCLp2CfDcQgwwFZJo3vvo08+L9hgq9DHCDDAmlHTUrbBHCDAQHkZ39xHDe2KjD+mkQgwMIUJ+7pFkQZ7bY8RYGBAkrCdw7J6EWCgipbLm3J7nuXo9gQY/sPJ61DSjOgWd6zBfhCHCTCU5ELQtXm7ZxhjfhgDHOaTGMoqsqopui3t+pH50Zzxk94bAPDUR5987i2+se0vuB/NSZagAfgPL4+Llt4iBBiAB+4/c0l3y7IPGP7t/CHQ9gHfcJEHeMY+YChGfe/JJzwjwADQgQADQAcCDAAdCDD8yEUogZYEGMpwBBawi/OAAY747jd/uvzh/Vef9t0SkhJggB2u3b3/ihKziwADbHKf3oc3kGE2sg8Y4LWX9T1wSyYnwLAsDoFm1d6majBbCDAU4BBobmgwLwkwwJrDKdVg1gkwQC0azAoBBqhIg3nGaUgATxXJpxOFecgEDNDId7/5k4GYKwEGaEqDuRBggKcqLRprMIsAA3ShwQgwuAwWfWjw5AQYznIZrKq+/uzjvhtQ9dBlDZ6ZAAN1ffTJ5703ITSHRk9LgAFeaHD+rgxPSICB6LqvQi+trqGhwVMRYIBAjMLzEGBm5xDoBsbYDdzyQpIaPAMBhlMcAj0VDaYgAQYSiLAb+OL9V582y7AGj02AgRziNHhpOApr8MAEGEhDgxnJu94bAD2dPwLLPuDtCuYz1FFdzQLp44QHYwIG8ok2CjtLmAMEGI4z/nYUqsFLqwxr8EgEGGik+LpxtAbDLgLMvFyCg+IMwWwnwHCQ9ecIvv7s42hzsAazkQAD7VQ6elmDyUiAgRFEG4UbHJOlwdk5D5h5ndwHbAn6sAalDHWi8FIzlk4OzssEDLTWoI4BB+JK92wOzssEzKRcA6u7ZoEMNQ1X6qU5OCMBZlLWnyNoPKQGKbEGc2EJGuimcRGDrEtXKqW16HQEGOip/VQaIcMazCLAzMk1sELpsjKswXQnwLCbHcDFaXBBGpyFAAMhfPTJ512Woxs/4g1HTs1MgIGpDdlgQ3AKAsx07ACOzFp0KRocnwDDPnYA16bBpWhwcC7Esdv9/OQdOReX4EihSxG7X6mjRjLtZg5LgLfa8q7trTk+V6BMRINL0eCYBPi1A2/Z3qPDEuBcNLgUDQ5IgF+wXDkYP9B0NLgUDY5GgNeUPVzWe3cEApxU+wxrMLUJ8JpK56t4E+/F+nN2s316kgaPTYCfanC2qHfzxoy/w5jns4Q1eGAC/FTLyzV4Z29DgIdUO8YaTCUuxBHCX3/2B5dngmNqX0TaNTqoxAT8WPccGraKswN4BvVi2XcOrtRLc3BfAvxY9wC/5X2/COvP86iUYQ2mLAF+LFSA35KBwwR4KkOOwho8GPuAHwv7bnvZWxz29wMIol4mO+4SVsrBmICfShS5sL8uxGEH8JzMwRtJexcm4BFcx+JEvzTkor5JmYOJzAS8ZqSezZwQ4+/kqsay1yhcdg4W9S4EeM1IAb4xVVEEGA1+SYPbswS9ZuC3XavWTGXIK3VIZnYm4Nckasn8u4jxlyvHZK2Q8/YEeCsZvkhXIwHmLQ1eocGNWYLe6sPvv7j8X+8N6cyqNal1/2SFGkqF0wWiGzMBnzJ5ilL8OuICWNxzrcpnDMEtCXAZSnz5w8vXoXHPrD/zTI0Gdx+vNTgXAS5s8hLv0qBtxl9WjNdgAc5FgCsS443qdU6AWVe8wYZgtvtp7w0Y2faF2cldX5+ywfOy89JHn3ze8aKSTM4E3JQkbFSkxHYAs1HZBg+wCr0YgptwGlJTTmTaKMLJTn5S8+i+blyQcCZiCboDS9MbeX1o5tJgy9G0ZAk6CrEJ7uFA/PCnZnROrUiDu4/UDsVKQYAjEuMhCXMW5xvcPcBLiQYLcG2WoCN6+04txsOodLA3xTk0mjZMwGko8ZDEOCZD8GICrs8EnIaxeEjGYpiWCTg9MR6MEgcxwBBsAg7OBJyeyXgwZmKYhAAP5dlbtjBn9PanJsYwHkvQM9LjAUhyA9lXoZ2JFJwJeEZWrQdgpZqX3n/1aalLQ1ODAM9u/e1bnuO7/IxkuAYnBFOVD2NgjU+PyCLCx1dwT79ZIcC8JsNZyDBlWcGuSoDZSoazkOFQDME84yhoDnr2Fr8SaVVozC9MRaQ+FtrHIkXmICwOOvDm7oOQG/vrz/6gwZNzIHRklqDp4LKarQ1Mwio0DwkwPclwbRYbzut+SefuzNCVCDD9GYihHntww7IPmEBcoouYXJGDGhwFTXrnUz380WFWF847GeDu69iuCx2QCZjZvY3TgY+Tuvkroyac7BwOHZAAw2vbJ8iHt1Rl4J4Ak1uKtvXdt239GWISYKbWPk7D728GNnIaEomlbpiTr8jFLuTiTMDQWdUFaoHnynFY0QgwBGKBGuYhwGRV8PTfgIqMxZGfICDAEN2xU43VF4ITYEjmUtbt1wYBYhJgUhp7/XmL+73F2Z8RzEaAITfdhaScB8yMRAsOcBZTWQJMPk7RobFhPovQJxqFIsAAdXX/LEJiEmCmY/2ZXYYZf4lGgEnG+jMwBgEGeMr4Sz0CzFysP9OYHcA8I8BkYv2Zloy/VCXAAA+oL7UJMGm4/CTpRFt/diWNUASYHCw+05LxlwYEmFkYf9moVH2jjb/nuZBWWQJMAsZfmjH70owAA/xIfWlJgImuyPhr/ZmXytZ3vPVnivN5wMDsDL50YQImNOMvtdWor/GXLUzAwICuWV1v4VT1dRJwNAJMXMZf9roP6sYS85JzkIoTYGAEL2fZyw3eZniq8ZeABJiRGX+72BW2IsXa/ohff/bx5RFnq6/154AEmKBcfCOF8xlrfwSyY54JQoAZlvG3Hg27F3n8Pc8O4BoEmDGpbw26+0zw+lp/jkmAgTWi+1Lw+hKWAAM/0toD4tf3/Phr/bkSAYbZ6e5h8etLZAIME9HaglLU1/gbmQDD+HS3uBT1JTgBhpFJbw3qSxE+DYkxuY7Hor51JKqvs4+CMwET1IfffyGiB4huVYnqW4QdwFUJMIxAdxvIVV/jb3wCDLlJbxu56ksKAgwp6W5L6epbZPy1/lybAEMy0ttYuvqShaOgIRP1bWza+hp/GxBggnII9D31bSxpfV39KosplqB/99tfXv7w5V/+0XdLgBSSppdcRg7wtbv3X1Fi0jH+NjN5fY2/zYwZ4Pv0PryBDIdl/ZkuBkiv038TGTDAL+v79pYaPKoPv/+i9yaUlG783ViyIM9rgO6WYvxtabQAb6/v9fYaDCcdDpjyMbPRAswArD/fCDIm3pPPaKw/5zJUgPeOv9e/ZQgezEjrz9HqK7pQylABBirR3RnYAdyYABOODyK86jL+am1S1p/TGSfAx9afr3/XKjTRNK6v7qamvhmNE2BgL9HlyvpzewL8I0PwSP76sz9kPw6r6viru4Mx/iYlwERkN3ANuguhvOu9ASWd2Q18YQiO42SAU0/ABcdf0R1ekfHX+nMXJmAGlLq+pUjvDCw+p+bzgAlq2ohGu/IGYZWqr/G3l6ECfH4B+Xe//eX5dWzozvg7PLPvAIYKcCkaHMSxITj16Gz8ZYuC9TX+djRagEsdRaXB5GX8hRRGC3BBGhzB3nHW+Ku+wzP+DmPAADuVaDDbm5q6vrCFXb8jGTDABRmCg/jw+y/W4/ryBvEZf2nM+Nud84BJ45rY6zU6skf3Sn3ZwuLzYIa6EtZbBYdXa9pUVerIZwEeW9nFZwGOwBL0axaiiU99x6a+Qxo2wGXHVg2mEif+8pIDr0Y1bICL02DCMv6ynfE3jpEDbN8twRl/ecni88BGDnBxhmCgJfUd2+ABNgQTloOfaUl9Axo8wABJOet3eAK8j1VoQjH+Ql7jB9gqNAE5/Ip1xt8ZjB9giMbeX9ap7ySmCLCLcgBZuOzGPKYI8GIhmjCMvzRj/A1u2A9jeKbU/KroHJCxvteBzLt5AxafpzJdgJdCDRZg9spV35USeGevRH1nM2OAFw2muYKHPdcO8MYMeIsvS30n9NPeGwDjy1LfXQ14eOO3b/03N1CFFQ68mtOkE/BiCKaVsqf81gtwswYo8T3j75xmOQoaBjBAfS+PZeB7S32nNe8S9Jd/+YczeqktxRWvuuTw/kEnjIdfRCY3b4CL+N1vf2kVmjYKjr9vzyyK04B5zneq9JoP/7qNZ+oAG4KpKtr4e/++H6e+bz3bqtSBiflS09e8B2FdnW+wIZh7oY69GuzdP1GJHdrGiqknYEhBfW9EOMEp1KuqvkkJcAH2BHMjzuJzqE5U0nLnccDXU33zEmB7ggntzPgbsBZVzfZ8yc55wGVIOFdZrnvFAIy/qQkwlGTxmWbUNzsBXhaHMROS8ZcV6jsAAS7GKjQWn2lDfccgwD8yBBPH+fpaf4b4BLgkQ/DMSo2/Zl/WGX+HIcD/ZgjmMPWlDfUdiQAXZggGKlHfwQjwfzAEc0CcU48u7AAekvqOR4DLMwRzjPVnnlHfIQkwnBJt/K1HA3rxyo/KxxE+UGSEtZo9iYCHX9VYgt7SgPvHvfwtS+KHSe/YfBgDDKVXfVdudv26Em+ku5MwAT92fgg2Ac9g+PG3UgmU+CHdnY0JuBYfEsxGAY+9ql2Cm/ufvMe6Oy0T8FP2BPPS+Qm4eH3Px6xjD6Yqse4iwGs0mBUB67ucbljMKgwT5pgvL71Ygq7OWvSQ5jn7KILsh3HN3N1v/vy/zR7rg9//sdljFSHAa778yz9cVYNKAu76je9tybrHeOasrmsZ3Y2PG7PNAtyCIXgwxt8Ieo3FuvtMr+5ucd22UCUW4EY0mAa6D4VdKGJ3kdN747KpQTIswC9YhWYeSsYuibp7I0iGBbidS8jNwdkVWX+2A5jU8qb3re4Z9mEMr5VNpnk6NXt/mdw3f/7fMep71fEZCXAHGpyU+jKz8dL7VpenJsCbFF831uCZWX8ml7HTe9X+OQpwNxqcS/zxd85DoKlthvReNX6yArxVjYOnNDiLgvU1/pLIVPVtT4B3cAAzJ0Wur3OQuDFnfVs+awHex87gCcVffF6sP0NCArybOXgqKeoLxc05/jYmwPBU2fpaf4YUmv3yIcBHuDTH8L7+7GOzL9My/rYhwAdZiB5YjfRWHX/tAIaMBDgEQ3Ac6eoLFNdmDUCAjzMEj2fO+toBzFvWn5sR4FMKNtgQ3F3S+lp/hqQE+CwNHkPS+gKVNFgJ8HnABXz5l39oZ2ozH/Bs/ZkbH/z+j2Xb0+YDdzOunAtwGaUa/Lvf/tKu5cYq1df4y+Qaf9D9w4cLXmUBLkaDM1JfKKtxd1OzD5h5zbzyfOUYLu4di+gHv/+j+u4iwCWVmlztUa6t6oWuGo+/duJCUpagg7IQXVybedfiM2PYeyiW2feAd703YEAF51cNPqnxInOv+p5fRjZG89DGBoet78mDsGo/LxNwaObgY7rs3DX7Mp5LgVYyFja9S/hDoBcBjk+Dd+l1XJX6MrBrZa9Ji9zdRCxBV1H2KCoB3mja+hY5ktkqNIMJvv68OAo6BQdFb9Fr2bl7fRfthDvx158XAa7EzDqDCOkF7qWo7yLA9ZRtsCF4Xfvxd7z6uiIHYyhS3zY7uQW4Ig0eVcD6WoWGdAS4LmvR4wlY31IMwWSXZfH5QoCr84HBtbVcf45cX0MwkytV32YnWQkwbBW5vqUYgkkq1+x7IcAtGIIHkKK+hmDmlLG+iwA3o8H1NEhjivrCnMrWt+VFvgS4HQdkJTVbfa1Ck0jS2fdCgJvygcHppKtvkVVoDSaF4vVtfI1rAW7NHFxDjUwGucxkLxpMcNnru/g0pLx8SlIlA0T3/VefFsnn5U4c2EVAqVeer3waUh9F1pAF+MbJE4IHSO9V8flVhomjRn27fMCiJWjGcbigk682b2FFmoH1+nhjE3A3huB6No7CY0e3UjKNwvQ1wK7fKwHu6XyDBXjdTYnHLu6NejOrBtPLMIvPFw7CYmRTFbcZB2fRxWD1XUzA3Z0Zgo2/rGuw41aGaWO8+i4OwgLO+O43f3J8FrUNWd9FgLszxVJPs/FUg6ln1PoulqCDOLAQrdxs1LiOFqUppdLVNoLUdzEBw/AaF/GyKG0m5qQxrnW1zgQcxa4h2PjLXn2LaCxml3r1jTP+LgIcysYGqy/HBJxKhZkbVQffUPVdBDiglQxLLycFbPCFEjNVei8EOK5riXWXgsI2+EqMJzRhfRcBhgnFb/CFEs+gwcFWAgzEkiXDixIPqs1xzmHruwgwTC5RhhclTq79mUWR67sIMJCrwRdKnEivM3qD13cRYOBChimu48U04td3EWDgKmODL5Q4lO4XsUpR30WAgRt5M7wocW/d07vkqe8iwMC91A1eZLiVCLm9kai+iwADD2Vv8JUYnxcwtA/lqu8iwMCKYTK8KPF+Wbp7ka6+iwADWwxTYhl+K1din8mY3gsBBrYaI8MaPEZ3rwQYmIUM5zVYepfM9V0EGDgse4lna7D6RiPAwCmpMzxPgwerb/b0XggwUEbSEs/Q4JHqO0Z6L37aewOAQbwtWdIYE9ZI3b0yAQN1xY/x2EPwSOPvvdRhFmCgjzhhFuDZXLN9fXG6hFyAgc66l1iAuWpZYgEGouhY4lEbrL7HtMnwTxo8BsAW77/69PJ/vTeE2bX5xcUEDITWZiwetfom4DNqz8EmYCC0BjPxqPVdkh8kPDwBBhKwNE17tdcPXIgDSOPa4O4HTsN5JmAgn4ID8fCDtVXosAQYyMq6NLVVXYV2FDQwiAPr0vP02+HQh9VbQjABA4PYOxDPU9/FQnRIJmBgTCsD8VTpvWEU3qXqLy4CDAzuWuKZu3tPibcQYABqUeIVAgxAa8Jce8e5AAOwzyRtFmAAghq4xA2OGxdgAOpK1+k2Z20JMADtBI9xyxOmBRiAlMq2vP21SgQYgIncZNs1wgAAAAAAAAAAAAAAAAAAAAAAAAAAAAAAAAAAAAAAILT/B0bToRWMaHWpAAAAAElFTkSuQmCC\" class=\"ndarray_image_preview\" /><pre class=\"ndarray_raw_data\">array([[[0, 0, 0],\n",
              "        [0, 0, 0],\n",
              "        [0, 0, 0],\n",
              "        ...,\n",
              "        [0, 0, 0],\n",
              "        [0, 0, 0],\n",
              "        [0, 0, 0]],\n",
              "\n",
              "       [[0, 0, 0],\n",
              "        [0, 0, 0],\n",
              "        [0, 0, 0],\n",
              "        ...,\n",
              "        [0, 0, 0],\n",
              "        [0, 0, 0],\n",
              "        [0, 0, 0]],\n",
              "\n",
              "       [[0, 0, 0],\n",
              "        [0, 0, 0],\n",
              "        [0, 0, 0],\n",
              "        ...,\n",
              "        [0, 0, 0],\n",
              "        [0, 0, 0],\n",
              "        [0, 0, 0]],\n",
              "\n",
              "       ...,\n",
              "\n",
              "       [[0, 0, 0],\n",
              "        [0, 0, 0],\n",
              "        [0, 0, 0],\n",
              "        ...,\n",
              "        [0, 0, 0],\n",
              "        [0, 0, 0],\n",
              "        [0, 0, 0]],\n",
              "\n",
              "       [[0, 0, 0],\n",
              "        [0, 0, 0],\n",
              "        [0, 0, 0],\n",
              "        ...,\n",
              "        [0, 0, 0],\n",
              "        [0, 0, 0],\n",
              "        [0, 0, 0]],\n",
              "\n",
              "       [[0, 0, 0],\n",
              "        [0, 0, 0],\n",
              "        [0, 0, 0],\n",
              "        ...,\n",
              "        [0, 0, 0],\n",
              "        [0, 0, 0],\n",
              "        [0, 0, 0]]], dtype=uint8)</pre></div><script>\n",
              "      (() => {\n",
              "      const titles = ['show data', 'hide data'];\n",
              "      let index = 0\n",
              "      document.querySelector('#id-963e9ef2-6e9a-4e8d-9823-09a076ce2d0e button').onclick = (e) => {\n",
              "        document.querySelector('#id-963e9ef2-6e9a-4e8d-9823-09a076ce2d0e').classList.toggle('show_array');\n",
              "        index = (++index) % 2;\n",
              "        document.querySelector('#id-963e9ef2-6e9a-4e8d-9823-09a076ce2d0e button').textContent = titles[index];\n",
              "        e.preventDefault();\n",
              "        e.stopPropagation();\n",
              "      }\n",
              "      })();\n",
              "    </script>"
            ]
          },
          "metadata": {},
          "execution_count": 62
        }
      ]
    }
  ]
}