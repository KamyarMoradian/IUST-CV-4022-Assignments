{
  "cells": [
    {
      "cell_type": "code",
      "execution_count": 213,
      "metadata": {
        "id": "bY-vXVmjae93"
      },
      "outputs": [],
      "source": [
        "import numpy as np\n",
        "import cv2\n",
        "import matplotlib.pyplot as plt\n",
        "from tqdm import tqdm"
      ]
    },
    {
      "cell_type": "code",
      "execution_count": 218,
      "metadata": {
        "id": "RRnBA_leaxQb"
      },
      "outputs": [],
      "source": [
        "def erosion(image, kernel):\n",
        "    \"\"\"\n",
        "    Performs erosion on a binary image using a given kernel.\n",
        "    \n",
        "    Erosion reduces the foreground (white) regions of the binary image by applying \n",
        "    the kernel and only retaining the parts of the image where the entire kernel fits \n",
        "    within the foreground.\n",
        "    \n",
        "    Parameters:\n",
        "    image (numpy.ndarray): Binary input image (2D array of 0s and 1s).\n",
        "    kernel (numpy.ndarray): Kernel used for erosion (2D array of 0s and 1s).\n",
        "    \n",
        "    Returns:\n",
        "    numpy.ndarray: Eroded binary image.\n",
        "    \"\"\"\n",
        "    rows, cols = image.shape\n",
        "    kernel_rows, kernel_cols = kernel.shape\n",
        "\n",
        "    # Create an output image with same dimensions\n",
        "    output = np.zeros_like(image)\n",
        "\n",
        "    # Iterate over the image\n",
        "    for i in range(rows - kernel_rows + 1):\n",
        "        for j in range(cols - kernel_cols + 1):\n",
        "            # Check if the kernel fits entirely within the image region\n",
        "            if np.all(image[i:i+kernel_rows, j:j+kernel_cols] >= kernel):\n",
        "                output[i+kernel_rows//2, j+kernel_cols//2] = 1\n",
        "\n",
        "    return output\n",
        "\n",
        "\n",
        "def dilation(image, kernel):\n",
        "    \"\"\"\n",
        "    Performs dilation on a binary image using a given kernel.\n",
        "    \n",
        "    Dilation expands the foreground (white) regions of the binary image by applying \n",
        "    the kernel and setting the central pixel of the kernel to 1 if any part of the \n",
        "    kernel overlaps with the foreground.\n",
        "    \n",
        "    Parameters:\n",
        "    image (numpy.ndarray): Binary input image (2D array of 0s and 1s).\n",
        "    kernel (numpy.ndarray): Kernel used for dilation (2D array of 0s and 1s).\n",
        "    \n",
        "    Returns:\n",
        "    numpy.ndarray: Dilated binary image.\n",
        "    \"\"\"\n",
        "    image = image.copy()\n",
        "    output = np.zeros_like(image)\n",
        "\n",
        "    kernel = np.array(kernel)\n",
        "    kernel_size = kernel.shape[0]\n",
        "    img_padded = np.pad(image, kernel_size//2, mode='constant')\n",
        "\n",
        "    for i in range(kernel_size//2, img_padded.shape[0] - kernel_size//2):\n",
        "        for j in range(kernel_size//2, img_padded.shape[1] - kernel_size//2):\n",
        "            output[i-kernel_size//2, j-kernel_size//2] = np.max(img_padded[i-kernel_size//2:i+kernel_size//2 + 1, j-kernel_size//2:j+kernel_size//2 + 1] * kernel)\n",
        "    return output\n",
        "\n",
        "\n",
        "def opening(image, kernel):\n",
        "    \"\"\"\n",
        "    Performs opening on a binary image using a given kernel.\n",
        "    \n",
        "    Opening is an erosion operation followed by a dilation operation, which helps \n",
        "    in removing noise and small objects from the binary image.\n",
        "    \n",
        "    Parameters:\n",
        "    image (numpy.ndarray): Binary input image (2D array of 0s and 1s).\n",
        "    kernel (numpy.ndarray): Kernel used for both erosion and dilation (2D array of 0s and 1s).\n",
        "    \n",
        "    Returns:\n",
        "    numpy.ndarray: Binary image after opening operation.\n",
        "    \"\"\"\n",
        "    image = image.copy()\n",
        "    eroded_img = erosion(image, kernel)\n",
        "    opened_img = dilation(eroded_img, kernel)\n",
        "    return opened_img\n",
        "\n",
        "\n",
        "def _dilate_k(image, kernel, k):\n",
        "    \"\"\"\n",
        "    Performs k successive dilation operations on a binary image using a given kernel.\n",
        "    \n",
        "    Parameters:\n",
        "    image (numpy.ndarray): Binary input image (2D array of 0s and 1s).\n",
        "    kernel (numpy.ndarray): Kernel used for dilation (2D array of 0s and 1s).\n",
        "    k (int): Number of dilation iterations.\n",
        "    \n",
        "    Returns:\n",
        "    numpy.ndarray: Binary image after k dilations.\n",
        "    \"\"\"\n",
        "    eroded_img = image.copy()\n",
        "    for _ in range(k):\n",
        "        eroded_img = dilation(eroded_img, kernel)\n",
        "    return eroded_img\n",
        "\n",
        "\n",
        "def find_structure(image, kernel):\n",
        "    \"\"\"\n",
        "    Decomposes a binary image into its structural elements using a given kernel.\n",
        "    \n",
        "    This function repeatedly applies erosion and opening operations to extract \n",
        "    the different structures within the binary image.\n",
        "    \n",
        "    Parameters:\n",
        "    image (numpy.ndarray): Binary input image (2D array of 0s and 1s).\n",
        "    kernel (numpy.ndarray): Kernel used for both erosion and opening (2D array of 0s and 1s).\n",
        "    \n",
        "    Returns:\n",
        "    list of numpy.ndarray: List of structural elements found in the image.\n",
        "    \"\"\"\n",
        "    fst_term = image.copy()\n",
        "    snd_term = opening(fst_term, kernel)\n",
        "    structures = [fst_term - snd_term]\n",
        "    while np.any(snd_term == 1):\n",
        "        fst_term = erosion(fst_term, kernel)\n",
        "        snd_term = opening(fst_term, kernel)\n",
        "        structures.append(np.array(fst_term - snd_term))\n",
        "        if len(structures) % 10 == 0:\n",
        "            print(f'{len(structures)}th iteration')\n",
        "    return structures\n",
        "\n",
        "\n",
        "def find_image(structures, kernel):\n",
        "    \"\"\"\n",
        "    Reconstructs a binary image from its structural elements using a given kernel.\n",
        "    \n",
        "    This function applies successive dilations to the structural elements and \n",
        "    combines them to reconstruct the original image.\n",
        "    \n",
        "    Parameters:\n",
        "    structures (list of numpy.ndarray): List of structural elements.\n",
        "    kernel (numpy.ndarray): Kernel used for dilation (2D array of 0s and 1s).\n",
        "    \n",
        "    Returns:\n",
        "    numpy.ndarray: Reconstructed binary image.\n",
        "    \"\"\"\n",
        "    image = np.zeros_like(structures[0])\n",
        "    for i, s in tqdm(enumerate(structures)):\n",
        "        s_k = _dilate_k(s, kernel, i)\n",
        "        image = np.logical_or(image, s_k)\n",
        "        if i % 10 == 0:\n",
        "            print(f'{i}th iteration')\n",
        "    return np.array(image, np.uint8)\n",
        "\n",
        "\n",
        "def get_structure_image(structures):\n",
        "    \"\"\"\n",
        "    Combines structural elements to form a binary image.\n",
        "    \n",
        "    This function combines all structural elements by performing a logical OR \n",
        "    operation to generate the final binary image.\n",
        "    \n",
        "    Parameters:\n",
        "    structures (list of numpy.ndarray): List of structural elements.\n",
        "    \n",
        "    Returns:\n",
        "    numpy.ndarray: Combined binary image from structural elements.\n",
        "    \"\"\"\n",
        "    image = np.zeros_like(structures[0])\n",
        "    for s in tqdm(structures):\n",
        "        image = np.logical_or(image, s)\n",
        "    image = np.array(image, np.uint8)\n",
        "    return image\n",
        "\n",
        "\n",
        "def show_binary_image(image):\n",
        "    \"\"\"\n",
        "    Converts a binary image to an 8-bit image for display.\n",
        "    \n",
        "    This function multiplies the binary image by 255 to convert it into an \n",
        "    8-bit image (0s become 0 and 1s become 255) for visualization purposes.\n",
        "    \n",
        "    Parameters:\n",
        "    image (numpy.ndarray): Binary input image (2D array of 0s and 1s).\n",
        "    \n",
        "    Returns:\n",
        "    numpy.ndarray: 8-bit image for display.\n",
        "    \"\"\"\n",
        "    return image * 255"
      ]
    },
    {
      "cell_type": "code",
      "execution_count": 215,
      "metadata": {
        "id": "SlyeqUtIaxsS"
      },
      "outputs": [],
      "source": [
        "image = np.array([\n",
        "    [1, 1, 1, 1, 0, 0, 0],\n",
        "    [1, 1, 1, 1, 0, 0, 0],\n",
        "    [1, 1, 1, 1, 0, 0, 0],\n",
        "    [1, 1, 1, 1, 1, 1, 1],\n",
        "    [1, 1, 1, 1, 1, 1, 1],\n",
        "    [1, 1, 1, 1, 1, 1, 1],\n",
        "    [1, 1, 1, 1, 1, 1, 1],\n",
        "])\n",
        "\n",
        "kernel = np.array([[0, 1, 0],\n",
        "                   [1, 1, 1],\n",
        "                   [0, 1, 0]])"
      ]
    },
    {
      "cell_type": "markdown",
      "metadata": {
        "id": "mBqwYtST02sP"
      },
      "source": [
        "## Image 8.6"
      ]
    },
    {
      "cell_type": "code",
      "execution_count": 222,
      "metadata": {
        "colab": {
          "base_uri": "https://localhost:8080/",
          "height": 453
        },
        "id": "VJg20nKcqsYB",
        "outputId": "6f9a73b5-c551-409b-ddf6-07760f72b5ef"
      },
      "outputs": [
        {
          "data": {
            "text/plain": [
              "<matplotlib.image.AxesImage at 0x78102e0e2c20>"
            ]
          },
          "execution_count": 222,
          "metadata": {},
          "output_type": "execute_result"
        },
        {
          "data": {
            "image/png": "[encoded data removed]",
            "text/plain": [
              "<Figure size 640x480 with 1 Axes>"
            ]
          },
          "metadata": {},
          "output_type": "display_data"
        }
      ],
      "source": [
        "image2 = cv2.imread('q8_6.png', cv2.IMREAD_GRAYSCALE)\n",
        "image2 = cv2.resize(image2, (300, 300), cv2.INTER_LINEAR) # Resize to speedup process\n",
        "plt.imshow(image2, 'gray')"
      ]
    },
    {
      "cell_type": "code",
      "execution_count": 223,
      "metadata": {
        "colab": {
          "base_uri": "https://localhost:8080/",
          "height": 340
        },
        "id": "9EG6_Nn9uz3u",
        "outputId": "bc8cb1d8-d00b-4cec-d8b9-8ca21613a540"
      },
      "outputs": [
        {
          "data": {
            "text/html": [
              "<style>\n",
              "      .ndarray_repr .ndarray_raw_data {\n",
              "        display: none;\n",
              "      }\n",
              "      .ndarray_repr.show_array .ndarray_raw_data {\n",
              "        display: block;\n",
              "      }\n",
              "      .ndarray_repr.show_array .ndarray_image_preview {\n",
              "        display: none;\n",
              "      }\n",
              "      </style>\n",
              "      <div id=\"id-8732e9bb-3cec-4859-ad3e-cd6c91c2796d\" class=\"ndarray_repr\"><pre>ndarray (300, 300) <button style=\"padding: 0 2px;\">show data</button></pre><img src=\"data:image/png;base64,iVBORw0KGgoAAAANSUhEUgAAASwAAAEsCAAAAABcFtGpAAAIAElEQVR4nO2d3ZqsKAxFdb55/1d2Ls7pnhJRkpCEHWuvm+6uVn6WERGR2jZCCCGEEEIIIYQQQgghhBBCCCGEEEK+nT0xr2NRvm7kFfpo/i6o65+sjFpX1w/wyZJVUM2VtMh6Awtl1Qs2RpYCylLwr2tqh0eH4IDtVjgW63hIsds+PW0JqcvtNDx+fMy127+pIDb/XrKO7q9TyeDp8pF1rpi0lqPt4HS5yGorJb21GW4HZsvn6vWc6kOVhxtCNfQxsj6SHQbHYFMkW/NlubGxP/xPs/FXyHIDyBZvdxTAywIKLHxZSMzLQjr0waBHFtShcJAFVZ9QwCML60B4yMKqUSDgkYUFZSmgLAUessBGneIAjyys4+AgC6tCkczLinUFdSSmZUXXBsnWrKz4ugDZUva+j2aflJp8lrEtQCqqfH/V7O0HwbT5LbJlk/Vnv8QTpM1ujS1NrkCtxxpbigYeydUawHvwtyw5cnJZDCy5LDRXK8pT9TRcYksqCy2wllA3shYcv8Ky8hHK4lm4bYwsFdLbhvnQanJyiNX0W54kWf1s5hLNvz0U5zhRsYc8ZnQByzLXa5CDWdeCcQdFlqZqCdK36VoxRhM8niVLXp8w/uCfulZhDeKiYWVdP0tXSPnWysqvemAR2CnVVGlXbawtiRdKWYpyFokWDWGRpa58AVtRsgxVx7cVJAu/4hZ8377/4cbV8bzBjj4QZJnrYEtVssqRLPkqV0MZndpc33e2vwG9LAAjZF1d9cVcPwRv6nSyjMf0brerQ2xbAZF1qfCDYvQm/UzCGPyjENPidqsUq2SJCtlWd7BTpdgKj6yhjGYD5NDSyLIUMahaa2y5P90xPPESry/ymFMC4xynRkctrZwuw0xlw9MwIeCnsshcCmkka250vNKlTgDEXAefxdziGch6WWhMEhpZb1MNcRqewb2ZBpSFC2UpoCwFlKWAshRQlgJAWbi9s1BZuD0mG4CRhctAVk5sVInAUWRp67GgwclTPTwNp4qSUY/EsBzPotmTFwTGHVX2nwevH1C3DcGvaOcUV0PTnPagOqkm7Lqh6TrEFNASWBXmwVueFo/2qdJt2LaMTumzDeXMCEmScQTI0kyMqRRXsa+jjPfSTOUCIOI0vM7n6+tac0mbIOlGuuelN01XlthkYczkTe0+7zveQpl6BkE3yrb6oMsKOg1NDTV2677FtVmGisO7AhopxXcVJ0s7yayAK60sTZVU1a/gKvR1FMXWNcRaF3V1Tf2F6zpErRhiSniJrfC1aIYZRKUbQMIqR49ZxCyeFETO+ll3uUyl+lZZ3YwCkgwm7Hp1n59nWrnELFVwT4nO5x0494YFEMqqNgAcQ+HIyj+AhWXlI5WFdx4uKJE4svBs5VP2NIS+N0TrIn0U/P6ri5y/1KiqrP/LffQ+HP7LhPtkthy6rtrD+fAvG5rbnY+V03a/Eohy3nLzu8G0Am7/uMbR5tdpry5bRkzY1N1I79txzjVlmb7989djYXMwnXO8LdVI633QOzieTyJ3lrwg9/3+49CiiIi1NSigPHOHmjr04EPbEKT+CvrtDpQrF1lYNQoEPLIuPHTSdXtacImKuCa+98KYuUvc9mXVda8k62g+Nc8naRMylcZIYN/h7vbF/hLk3qRjLY2VyI5W9G2oqv5lGniENTwdZIX24FePypwoE1kIzMvKOfYQEQYfWZfxxoXAy0ICXtbe/AxKXsT8/Kz+yPJPITQLUUO0S08EDf49PDh4yP95fDPCJUIPXrpWw/Dde7F0G8rah4xntR/clWlY1v32jyW4NPDDN8Ol9dwf/1yO09XwpMuopv0I7+V8t67D3vltJpmrqoA2S5mkXz/rb+368SAX+JTKarIKNepf2FLooxkZTO6UInHu7ruft2Uia1zzXnK2ve6Avzf8y7DWN22l6+uOCyNLlLW0LveJzaeg2cSH4T2RbKc+6pk2hlS2ladhmiu/dyrTZLWth2NI624xIzNaiOOiRz5JVbka3iM63D4xUb5T2n+t4jpq5NFDLS/rzPHx07+FqX4a9uYk9f5wUVdc1nkIv53pNl5lUEdxWZ90WiXnW+nasobPM+xzsXogy/IYlVDF1ihD6KuhYhQvZXotcmRtoyEWZd/9eXNBYuCypOfi/CJAknzgZU23yyKPskzwZQFBWQoKyMIZRSogS8Bs+y48Hu+QlcQ7ZKVcMUvIwpk9WUAWDpSlAF/WbA/c8cE39KjDltdgiRYiwenx9RipEkz8VswNB358LyD5Oojz+N7A2NV4sEr10sFoC2RZOibnskp4j6zRTHGHc7q4rPOTwXaijvfVq7is9rHz3v/9sqEN9H6WltCuUPXIkkaMSy+kvCyZBpmrUVgiyxKeUgIRTr1bZFlShiq87gSgZTlNM3ab2o19I/2tLw1MMn4dxbifxkAVWZIA6c/FVe/ks+1aNCtEiHf45vcNgwfAoK+GJ0LOAV2idWQB8N2yFqwYksT6a1EhWespJOtNi2B8AXVkhfShdInWkQVAGVkvWQH3e6AsBZSlgLIUfLss1T1UGVnr7wwxyiCkmYxl60vsM68CF5L1ji/8SKP9KhmlrnZHdd1LybqSu65amQa+T+5Dv+KycqEsBZSl4I2ywtYaftcT6d+lmbeQAbCXRdbe/dWLl8mKpbqs/f6vh38ZqS7rRPTtSHlZwndYXTwWvzf8w+33iSF90RghhBBCCCGEEEIIIYQQQgghhBBCCCHk2/gPLORc573rl1MAAAAASUVORK5CYII=\" class=\"ndarray_image_preview\" /><pre class=\"ndarray_raw_data\">array([[0, 0, 0, ..., 0, 0, 0],\n",
              "       [0, 0, 0, ..., 0, 0, 0],\n",
              "       [0, 0, 0, ..., 0, 0, 0],\n",
              "       ...,\n",
              "       [0, 0, 0, ..., 0, 0, 0],\n",
              "       [0, 0, 0, ..., 0, 0, 0],\n",
              "       [0, 0, 0, ..., 0, 0, 0]], dtype=uint8)</pre></div><script>\n",
              "      (() => {\n",
              "      const titles = ['show data', 'hide data'];\n",
              "      let index = 0\n",
              "      document.querySelector('#id-8732e9bb-3cec-4859-ad3e-cd6c91c2796d button').onclick = (e) => {\n",
              "        document.querySelector('#id-8732e9bb-3cec-4859-ad3e-cd6c91c2796d').classList.toggle('show_array');\n",
              "        index = (++index) % 2;\n",
              "        document.querySelector('#id-8732e9bb-3cec-4859-ad3e-cd6c91c2796d button').textContent = titles[index];\n",
              "        e.preventDefault();\n",
              "        e.stopPropagation();\n",
              "      }\n",
              "      })();\n",
              "    </script>"
            ],
            "text/plain": [
              "array([[0, 0, 0, ..., 0, 0, 0],\n",
              "       [0, 0, 0, ..., 0, 0, 0],\n",
              "       [0, 0, 0, ..., 0, 0, 0],\n",
              "       ...,\n",
              "       [0, 0, 0, ..., 0, 0, 0],\n",
              "       [0, 0, 0, ..., 0, 0, 0],\n",
              "       [0, 0, 0, ..., 0, 0, 0]], dtype=uint8)"
            ]
          },
          "execution_count": 223,
          "metadata": {},
          "output_type": "execute_result"
        }
      ],
      "source": [
        "blurred2 = cv2.GaussianBlur(image2, (15, 15), 0)\n",
        "blurred2[blurred2<=150] = 0\n",
        "blurred2[blurred2>150] = 1\n",
        "show_binary_image(blurred2)"
      ]
    },
    {
      "cell_type": "code",
      "execution_count": 224,
      "metadata": {
        "colab": {
          "base_uri": "https://localhost:8080/"
        },
        "id": "sJgY8zafejzU",
        "outputId": "1dacc385-b149-49e5-b795-5d1275722f7b"
      },
      "outputs": [
        {
          "name": "stdout",
          "output_type": "stream",
          "text": [
            "10th iteration\n",
            "20th iteration\n"
          ]
        }
      ],
      "source": [
        "structures2 = find_structure(blurred2, kernel)"
      ]
    },
    {
      "cell_type": "code",
      "execution_count": 225,
      "metadata": {
        "colab": {
          "base_uri": "https://localhost:8080/",
          "height": 358
        },
        "id": "1n7ODu-OsdEu",
        "outputId": "3f53bd48-55a1-4cdd-c983-3eb9f20806d0"
      },
      "outputs": [
        {
          "name": "stderr",
          "output_type": "stream",
          "text": [
            "100%|██████████| 25/25 [00:00<00:00, 12232.57it/s]\n"
          ]
        },
        {
          "data": {
            "text/html": [
              "<style>\n",
              "      .ndarray_repr .ndarray_raw_data {\n",
              "        display: none;\n",
              "      }\n",
              "      .ndarray_repr.show_array .ndarray_raw_data {\n",
              "        display: block;\n",
              "      }\n",
              "      .ndarray_repr.show_array .ndarray_image_preview {\n",
              "        display: none;\n",
              "      }\n",
              "      </style>\n",
              "      <div id=\"id-37366ce5-e886-4389-aa9b-95a420aae8b7\" class=\"ndarray_repr\"><pre>ndarray (300, 300) <button style=\"padding: 0 2px;\">show data</button></pre><img src=\"data:image/png;base64,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\" class=\"ndarray_image_preview\" /><pre class=\"ndarray_raw_data\">array([[0, 0, 0, ..., 0, 0, 0],\n",
              "       [0, 0, 0, ..., 0, 0, 0],\n",
              "       [0, 0, 0, ..., 0, 0, 0],\n",
              "       ...,\n",
              "       [0, 0, 0, ..., 0, 0, 0],\n",
              "       [0, 0, 0, ..., 0, 0, 0],\n",
              "       [0, 0, 0, ..., 0, 0, 0]], dtype=uint8)</pre></div><script>\n",
              "      (() => {\n",
              "      const titles = ['show data', 'hide data'];\n",
              "      let index = 0\n",
              "      document.querySelector('#id-37366ce5-e886-4389-aa9b-95a420aae8b7 button').onclick = (e) => {\n",
              "        document.querySelector('#id-37366ce5-e886-4389-aa9b-95a420aae8b7').classList.toggle('show_array');\n",
              "        index = (++index) % 2;\n",
              "        document.querySelector('#id-37366ce5-e886-4389-aa9b-95a420aae8b7 button').textContent = titles[index];\n",
              "        e.preventDefault();\n",
              "        e.stopPropagation();\n",
              "      }\n",
              "      })();\n",
              "    </script>"
            ],
            "text/plain": [
              "array([[0, 0, 0, ..., 0, 0, 0],\n",
              "       [0, 0, 0, ..., 0, 0, 0],\n",
              "       [0, 0, 0, ..., 0, 0, 0],\n",
              "       ...,\n",
              "       [0, 0, 0, ..., 0, 0, 0],\n",
              "       [0, 0, 0, ..., 0, 0, 0],\n",
              "       [0, 0, 0, ..., 0, 0, 0]], dtype=uint8)"
            ]
          },
          "execution_count": 225,
          "metadata": {},
          "output_type": "execute_result"
        }
      ],
      "source": [
        "get_structure_image(structures2) * 255"
      ]
    },
    {
      "cell_type": "code",
      "execution_count": 226,
      "metadata": {
        "colab": {
          "base_uri": "https://localhost:8080/"
        },
        "id": "H7tlazYniA0q",
        "outputId": "ea9ab600-4251-4493-a91c-ed25111ee86b"
      },
      "outputs": [
        {
          "name": "stderr",
          "output_type": "stream",
          "text": [
            "\r0it [00:00, ?it/s]"
          ]
        },
        {
          "name": "stdout",
          "output_type": "stream",
          "text": [
            "0th iteration\n"
          ]
        },
        {
          "name": "stderr",
          "output_type": "stream",
          "text": [
            "11it [00:42,  5.97s/it]"
          ]
        },
        {
          "name": "stdout",
          "output_type": "stream",
          "text": [
            "10th iteration\n"
          ]
        },
        {
          "name": "stderr",
          "output_type": "stream",
          "text": [
            "21it [03:09, 17.80s/it]"
          ]
        },
        {
          "name": "stdout",
          "output_type": "stream",
          "text": [
            "20th iteration\n"
          ]
        },
        {
          "name": "stderr",
          "output_type": "stream",
          "text": [
            "25it [04:36, 11.05s/it]\n"
          ]
        }
      ],
      "source": [
        "recovered_img = find_image(structures2, kernel)"
      ]
    },
    {
      "cell_type": "code",
      "execution_count": 227,
      "metadata": {
        "colab": {
          "base_uri": "https://localhost:8080/",
          "height": 340
        },
        "id": "jQ_ZwhAJ0ZZg",
        "outputId": "92e14d74-b9e1-434d-d047-aa3bab8cb1ef"
      },
      "outputs": [
        {
          "data": {
            "text/html": [
              "<style>\n",
              "      .ndarray_repr .ndarray_raw_data {\n",
              "        display: none;\n",
              "      }\n",
              "      .ndarray_repr.show_array .ndarray_raw_data {\n",
              "        display: block;\n",
              "      }\n",
              "      .ndarray_repr.show_array .ndarray_image_preview {\n",
              "        display: none;\n",
              "      }\n",
              "      </style>\n",
              "      <div id=\"id-b0bf91ee-df40-4431-9b1a-f63bdec61d9e\" class=\"ndarray_repr\"><pre>ndarray (300, 300) <button style=\"padding: 0 2px;\">show data</button></pre><img src=\"data:image/png;base64,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\" class=\"ndarray_image_preview\" /><pre class=\"ndarray_raw_data\">array([[0, 0, 0, ..., 0, 0, 0],\n",
              "       [0, 0, 0, ..., 0, 0, 0],\n",
              "       [0, 0, 0, ..., 0, 0, 0],\n",
              "       ...,\n",
              "       [0, 0, 0, ..., 0, 0, 0],\n",
              "       [0, 0, 0, ..., 0, 0, 0],\n",
              "       [0, 0, 0, ..., 0, 0, 0]], dtype=uint8)</pre></div><script>\n",
              "      (() => {\n",
              "      const titles = ['show data', 'hide data'];\n",
              "      let index = 0\n",
              "      document.querySelector('#id-b0bf91ee-df40-4431-9b1a-f63bdec61d9e button').onclick = (e) => {\n",
              "        document.querySelector('#id-b0bf91ee-df40-4431-9b1a-f63bdec61d9e').classList.toggle('show_array');\n",
              "        index = (++index) % 2;\n",
              "        document.querySelector('#id-b0bf91ee-df40-4431-9b1a-f63bdec61d9e button').textContent = titles[index];\n",
              "        e.preventDefault();\n",
              "        e.stopPropagation();\n",
              "      }\n",
              "      })();\n",
              "    </script>"
            ],
            "text/plain": [
              "array([[0, 0, 0, ..., 0, 0, 0],\n",
              "       [0, 0, 0, ..., 0, 0, 0],\n",
              "       [0, 0, 0, ..., 0, 0, 0],\n",
              "       ...,\n",
              "       [0, 0, 0, ..., 0, 0, 0],\n",
              "       [0, 0, 0, ..., 0, 0, 0],\n",
              "       [0, 0, 0, ..., 0, 0, 0]], dtype=uint8)"
            ]
          },
          "execution_count": 227,
          "metadata": {},
          "output_type": "execute_result"
        }
      ],
      "source": [
        "show_binary_image(recovered_img)"
      ]
    },
    {
      "cell_type": "markdown",
      "metadata": {
        "id": "dLc7MQXN11Hc"
      },
      "source": [
        "## Image 8.5"
      ]
    },
    {
      "cell_type": "code",
      "execution_count": 270,
      "metadata": {
        "colab": {
          "base_uri": "https://localhost:8080/",
          "height": 453
        },
        "id": "2WV7pmpH15CS",
        "outputId": "58667cb2-8a4e-4d59-ba0b-fc5ef6ceff51"
      },
      "outputs": [
        {
          "data": {
            "text/plain": [
              "<matplotlib.image.AxesImage at 0x78102d2e9e10>"
            ]
          },
          "execution_count": 270,
          "metadata": {},
          "output_type": "execute_result"
        },
        {
          "data": {
            "image/png": "[encoded data removed]",
            "text/plain": [
              "<Figure size 640x480 with 1 Axes>"
            ]
          },
          "metadata": {},
          "output_type": "display_data"
        }
      ],
      "source": [
        "image1 = cv2.imread('q8_5.jpg', cv2.IMREAD_GRAYSCALE)\n",
        "# image1 = cv2.resize(image1, (image1.shape[0]//2, image1.shape[1]//2), cv2.INTER_LINEAR) # Resize to speedup process\n",
        "plt.imshow(image1, 'gray')"
      ]
    },
    {
      "cell_type": "code",
      "execution_count": 271,
      "metadata": {
        "colab": {
          "base_uri": "https://localhost:8080/",
          "height": 512
        },
        "id": "BB4hOYmB1_ZL",
        "outputId": "7f8afd17-a558-49f0-8a60-b8f411539586"
      },
      "outputs": [
        {
          "data": {
            "text/html": [
              "<style>\n",
              "      .ndarray_repr .ndarray_raw_data {\n",
              "        display: none;\n",
              "      }\n",
              "      .ndarray_repr.show_array .ndarray_raw_data {\n",
              "        display: block;\n",
              "      }\n",
              "      .ndarray_repr.show_array .ndarray_image_preview {\n",
              "        display: none;\n",
              "      }\n",
              "      </style>\n",
              "      <div id=\"id-efc4e3f4-6a40-4629-a91a-4eba1dbd400b\" class=\"ndarray_repr\"><pre>ndarray (472, 378) <button style=\"padding: 0 2px;\">show data</button></pre><img src=\"data:image/png;base64,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\" class=\"ndarray_image_preview\" /><pre class=\"ndarray_raw_data\">array([[0, 0, 0, ..., 0, 0, 0],\n",
              "       [0, 0, 0, ..., 0, 0, 0],\n",
              "       [0, 0, 0, ..., 0, 0, 0],\n",
              "       ...,\n",
              "       [0, 0, 0, ..., 0, 0, 0],\n",
              "       [0, 0, 0, ..., 0, 0, 0],\n",
              "       [0, 0, 0, ..., 0, 0, 0]], dtype=uint8)</pre></div><script>\n",
              "      (() => {\n",
              "      const titles = ['show data', 'hide data'];\n",
              "      let index = 0\n",
              "      document.querySelector('#id-efc4e3f4-6a40-4629-a91a-4eba1dbd400b button').onclick = (e) => {\n",
              "        document.querySelector('#id-efc4e3f4-6a40-4629-a91a-4eba1dbd400b').classList.toggle('show_array');\n",
              "        index = (++index) % 2;\n",
              "        document.querySelector('#id-efc4e3f4-6a40-4629-a91a-4eba1dbd400b button').textContent = titles[index];\n",
              "        e.preventDefault();\n",
              "        e.stopPropagation();\n",
              "      }\n",
              "      })();\n",
              "    </script>"
            ],
            "text/plain": [
              "array([[0, 0, 0, ..., 0, 0, 0],\n",
              "       [0, 0, 0, ..., 0, 0, 0],\n",
              "       [0, 0, 0, ..., 0, 0, 0],\n",
              "       ...,\n",
              "       [0, 0, 0, ..., 0, 0, 0],\n",
              "       [0, 0, 0, ..., 0, 0, 0],\n",
              "       [0, 0, 0, ..., 0, 0, 0]], dtype=uint8)"
            ]
          },
          "execution_count": 271,
          "metadata": {},
          "output_type": "execute_result"
        }
      ],
      "source": [
        "image1[image1<=160] = 0\n",
        "image1[image1>160] = 1\n",
        "show_binary_image(image1)"
      ]
    },
    {
      "cell_type": "code",
      "execution_count": 272,
      "metadata": {
        "colab": {
          "base_uri": "https://localhost:8080/",
          "height": 585
        },
        "id": "YyHwPr_12KRz",
        "outputId": "05ba9b5b-973c-4a2b-ba2b-b2a397e467b8"
      },
      "outputs": [
        {
          "name": "stdout",
          "output_type": "stream",
          "text": [
            "10th iteration\n",
            "20th iteration\n",
            "30th iteration\n"
          ]
        },
        {
          "name": "stderr",
          "output_type": "stream",
          "text": [
            "100%|██████████| 38/38 [00:00<00:00, 10901.75it/s]\n"
          ]
        },
        {
          "data": {
            "text/html": [
              "<style>\n",
              "      .ndarray_repr .ndarray_raw_data {\n",
              "        display: none;\n",
              "      }\n",
              "      .ndarray_repr.show_array .ndarray_raw_data {\n",
              "        display: block;\n",
              "      }\n",
              "      .ndarray_repr.show_array .ndarray_image_preview {\n",
              "        display: none;\n",
              "      }\n",
              "      </style>\n",
              "      <div id=\"id-4edac76a-7eb4-4a88-b688-b82d8e553f84\" class=\"ndarray_repr\"><pre>ndarray (472, 378) <button style=\"padding: 0 2px;\">show data</button></pre><img src=\"data:image/png;base64,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\" class=\"ndarray_image_preview\" /><pre class=\"ndarray_raw_data\">array([[0, 0, 0, ..., 0, 0, 0],\n",
              "       [0, 0, 0, ..., 0, 0, 0],\n",
              "       [0, 0, 0, ..., 0, 0, 0],\n",
              "       ...,\n",
              "       [0, 0, 0, ..., 0, 0, 0],\n",
              "       [0, 0, 0, ..., 0, 0, 0],\n",
              "       [0, 0, 0, ..., 0, 0, 0]], dtype=uint8)</pre></div><script>\n",
              "      (() => {\n",
              "      const titles = ['show data', 'hide data'];\n",
              "      let index = 0\n",
              "      document.querySelector('#id-4edac76a-7eb4-4a88-b688-b82d8e553f84 button').onclick = (e) => {\n",
              "        document.querySelector('#id-4edac76a-7eb4-4a88-b688-b82d8e553f84').classList.toggle('show_array');\n",
              "        index = (++index) % 2;\n",
              "        document.querySelector('#id-4edac76a-7eb4-4a88-b688-b82d8e553f84 button').textContent = titles[index];\n",
              "        e.preventDefault();\n",
              "        e.stopPropagation();\n",
              "      }\n",
              "      })();\n",
              "    </script>"
            ],
            "text/plain": [
              "array([[0, 0, 0, ..., 0, 0, 0],\n",
              "       [0, 0, 0, ..., 0, 0, 0],\n",
              "       [0, 0, 0, ..., 0, 0, 0],\n",
              "       ...,\n",
              "       [0, 0, 0, ..., 0, 0, 0],\n",
              "       [0, 0, 0, ..., 0, 0, 0],\n",
              "       [0, 0, 0, ..., 0, 0, 0]], dtype=uint8)"
            ]
          },
          "execution_count": 272,
          "metadata": {},
          "output_type": "execute_result"
        }
      ],
      "source": [
        "structures1 = find_structure(image1, kernel)\n",
        "get_structure_image(structures1) * 255"
      ]
    },
    {
      "cell_type": "code",
      "execution_count": 273,
      "metadata": {
        "colab": {
          "base_uri": "https://localhost:8080/",
          "height": 603
        },
        "id": "9Jg6KqUl2bi2",
        "outputId": "a51edb3b-0b63-4ffa-e69b-db46ecc2242a"
      },
      "outputs": [
        {
          "name": "stderr",
          "output_type": "stream",
          "text": [
            "\r0it [00:00, ?it/s]"
          ]
        },
        {
          "name": "stdout",
          "output_type": "stream",
          "text": [
            "0th iteration\n"
          ]
        },
        {
          "name": "stderr",
          "output_type": "stream",
          "text": [
            "11it [01:25, 11.86s/it]"
          ]
        },
        {
          "name": "stdout",
          "output_type": "stream",
          "text": [
            "10th iteration\n"
          ]
        },
        {
          "name": "stderr",
          "output_type": "stream",
          "text": [
            "21it [05:19, 26.79s/it]"
          ]
        },
        {
          "name": "stdout",
          "output_type": "stream",
          "text": [
            "20th iteration\n"
          ]
        },
        {
          "name": "stderr",
          "output_type": "stream",
          "text": [
            "31it [11:42, 41.12s/it]"
          ]
        },
        {
          "name": "stdout",
          "output_type": "stream",
          "text": [
            "30th iteration\n"
          ]
        },
        {
          "name": "stderr",
          "output_type": "stream",
          "text": [
            "38it [17:34, 27.75s/it]\n"
          ]
        },
        {
          "data": {
            "text/html": [
              "<style>\n",
              "      .ndarray_repr .ndarray_raw_data {\n",
              "        display: none;\n",
              "      }\n",
              "      .ndarray_repr.show_array .ndarray_raw_data {\n",
              "        display: block;\n",
              "      }\n",
              "      .ndarray_repr.show_array .ndarray_image_preview {\n",
              "        display: none;\n",
              "      }\n",
              "      </style>\n",
              "      <div id=\"id-eeede6af-927d-4d35-a1bf-6714a873b123\" class=\"ndarray_repr\"><pre>ndarray (472, 378) <button style=\"padding: 0 2px;\">show data</button></pre><img src=\"data:image/png;base64,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\" class=\"ndarray_image_preview\" /><pre class=\"ndarray_raw_data\">array([[0, 0, 0, ..., 0, 0, 0],\n",
              "       [0, 0, 0, ..., 0, 0, 0],\n",
              "       [0, 0, 0, ..., 0, 0, 0],\n",
              "       ...,\n",
              "       [0, 0, 0, ..., 0, 0, 0],\n",
              "       [0, 0, 0, ..., 0, 0, 0],\n",
              "       [0, 0, 0, ..., 0, 0, 0]], dtype=uint8)</pre></div><script>\n",
              "      (() => {\n",
              "      const titles = ['show data', 'hide data'];\n",
              "      let index = 0\n",
              "      document.querySelector('#id-eeede6af-927d-4d35-a1bf-6714a873b123 button').onclick = (e) => {\n",
              "        document.querySelector('#id-eeede6af-927d-4d35-a1bf-6714a873b123').classList.toggle('show_array');\n",
              "        index = (++index) % 2;\n",
              "        document.querySelector('#id-eeede6af-927d-4d35-a1bf-6714a873b123 button').textContent = titles[index];\n",
              "        e.preventDefault();\n",
              "        e.stopPropagation();\n",
              "      }\n",
              "      })();\n",
              "    </script>"
            ],
            "text/plain": [
              "array([[0, 0, 0, ..., 0, 0, 0],\n",
              "       [0, 0, 0, ..., 0, 0, 0],\n",
              "       [0, 0, 0, ..., 0, 0, 0],\n",
              "       ...,\n",
              "       [0, 0, 0, ..., 0, 0, 0],\n",
              "       [0, 0, 0, ..., 0, 0, 0],\n",
              "       [0, 0, 0, ..., 0, 0, 0]], dtype=uint8)"
            ]
          },
          "execution_count": 273,
          "metadata": {},
          "output_type": "execute_result"
        }
      ],
      "source": [
        "recovered_img1 = find_image(structures1, kernel)\n",
        "show_binary_image(recovered_img1)"
      ]
    },
    {
      "cell_type": "markdown",
      "metadata": {
        "id": "wTAaAwMT2fY6"
      },
      "source": [
        "## Image 8.7"
      ]
    },
    {
      "cell_type": "code",
      "execution_count": 274,
      "metadata": {
        "colab": {
          "base_uri": "https://localhost:8080/",
          "height": 452
        },
        "id": "U4DWhVMO4F4f",
        "outputId": "7ef1a251-0a21-4ed4-f309-f8ce4422d660"
      },
      "outputs": [
        {
          "data": {
            "text/plain": [
              "<matplotlib.image.AxesImage at 0x78102d13a6b0>"
            ]
          },
          "execution_count": 274,
          "metadata": {},
          "output_type": "execute_result"
        },
        {
          "data": {
            "image/png": "[encoded data removed]",
            "text/plain": [
              "<Figure size 640x480 with 1 Axes>"
            ]
          },
          "metadata": {},
          "output_type": "display_data"
        }
      ],
      "source": [
        "image3 = cv2.imread('q8_7.png', cv2.IMREAD_GRAYSCALE)\n",
        "# image3 = cv2.resize(image3, (image3.shape[0]//2, image3.shape[1]//2), cv2.INTER_LINEAR) # Resize to speedup process\n",
        "plt.imshow(image3, 'gray')"
      ]
    },
    {
      "cell_type": "code",
      "execution_count": 275,
      "metadata": {
        "colab": {
          "base_uri": "https://localhost:8080/",
          "height": 240
        },
        "id": "ZxNA4Upb4P2T",
        "outputId": "528e7b57-ee14-4046-ed46-58e4446ed368"
      },
      "outputs": [
        {
          "data": {
            "text/html": [
              "<style>\n",
              "      .ndarray_repr .ndarray_raw_data {\n",
              "        display: none;\n",
              "      }\n",
              "      .ndarray_repr.show_array .ndarray_raw_data {\n",
              "        display: block;\n",
              "      }\n",
              "      .ndarray_repr.show_array .ndarray_image_preview {\n",
              "        display: none;\n",
              "      }\n",
              "      </style>\n",
              "      <div id=\"id-d409f684-64fa-4c06-a365-fd4f68fb58ff\" class=\"ndarray_repr\"><pre>ndarray (200, 176) <button style=\"padding: 0 2px;\">show data</button></pre><img src=\"data:image/png;base64,iVBORw0KGgoAAAANSUhEUgAAALAAAADICAAAAABtrTQuAAADP0lEQVR4nO2d2VYjMQxEHQ7//8vmDQLxotJiFY7uw5w5M0G+XZHdWzq0VhRFURRFURRFURSHeHgW6xFF/+BXuz/9PdD406lO37/EBx/hY7qtfXgUOejrInzS10P41TdylbALn/W1T7p5P/QQdWvJoe/j6Z+9nY31JPPNV9llWTuJTVi0oPmueqb3S6oyGqQrBz8i/DpMV49uEUbe61/jWNaQhEnXnzYU72+DMDTY94u7cQ7qWwIe+DH8IVRAnTAeVDen29rZHh7qotugFfbbG4CVlMKeey+sFsOxBGTMIAyhE3Y+i0PKvUnC3gARq4SPntf/gSNhIAISYTkswuKIWYTFxjTCUmMeYSElrEfWE0TCMjTCQTs62dndOySceSShEc71xYWTfdFbBtm64IWXUF2hCZBwfrqtSbfrgKv0rRa87kiy4tbct0Sc70NTfrusBfv++lP+U3OifWHe4VjCB+2l/0pYiPreSpKw/l7QRphjd/xMTsKG+69rYb6A3T5oZwH6TOHyBfG7ucEIG+XVfwcfr0/LL5XThJcsrBaTLnHGLYYm3TXPjUmFNQ2evgaP1VgTbrPEiIXHxszCQ2Nq4ZHxVDh9zrXWRhbcCQ+YCXMEPOCahGmZCNN2xDUJ83KJMG8L35IwDa/HxNzCg2N4auHROQfDlZ8xk5M32oRnJ5ucCS8upNAJ764GkgnvLxxTCUuucxMJyy7L0whL7yKwLGviux4swmJIhOW3lUiE5XAIA/ftOIQBSlgDcieXQhhhLBz6hQs2LkmYGAZhqAEnwrxNzJAwxEyYNuJpwqzGBC2BRTMXJo14kTCn8aolzhiDoyx7mDFjgkmHkS7s+w0ehD2RnjBKCYPATZctDLMRjp51/+Krn2zkCivewEoYQTNDKmEA1RJ0XcKBC7Gu9HUJxxH1xCLbIfE+4SDjemLxh5CIQ59YpGrj2x6xtJb357JHLB0G8EaYsK+xpdqN63BrzTdiUy1xwn7GtkryliCZeEAPOxkby/y7SYdtr8OH+a3vE5awvSvMFeACtpBTttig7DBvFZNOP6rHOqOqocnYaxlX1tH/2gUr0b8twn3/6FJQ900RRVEURVEURVEURUHOF94OXU3cWkY6AAAAAElFTkSuQmCC\" class=\"ndarray_image_preview\" /><pre class=\"ndarray_raw_data\">array([[0, 0, 0, ..., 0, 0, 0],\n",
              "       [0, 0, 0, ..., 0, 0, 0],\n",
              "       [0, 0, 0, ..., 0, 0, 0],\n",
              "       ...,\n",
              "       [0, 0, 0, ..., 0, 0, 0],\n",
              "       [0, 0, 0, ..., 0, 0, 0],\n",
              "       [0, 0, 0, ..., 0, 0, 0]], dtype=uint8)</pre></div><script>\n",
              "      (() => {\n",
              "      const titles = ['show data', 'hide data'];\n",
              "      let index = 0\n",
              "      document.querySelector('#id-d409f684-64fa-4c06-a365-fd4f68fb58ff button').onclick = (e) => {\n",
              "        document.querySelector('#id-d409f684-64fa-4c06-a365-fd4f68fb58ff').classList.toggle('show_array');\n",
              "        index = (++index) % 2;\n",
              "        document.querySelector('#id-d409f684-64fa-4c06-a365-fd4f68fb58ff button').textContent = titles[index];\n",
              "        e.preventDefault();\n",
              "        e.stopPropagation();\n",
              "      }\n",
              "      })();\n",
              "    </script>"
            ],
            "text/plain": [
              "array([[0, 0, 0, ..., 0, 0, 0],\n",
              "       [0, 0, 0, ..., 0, 0, 0],\n",
              "       [0, 0, 0, ..., 0, 0, 0],\n",
              "       ...,\n",
              "       [0, 0, 0, ..., 0, 0, 0],\n",
              "       [0, 0, 0, ..., 0, 0, 0],\n",
              "       [0, 0, 0, ..., 0, 0, 0]], dtype=uint8)"
            ]
          },
          "execution_count": 275,
          "metadata": {},
          "output_type": "execute_result"
        }
      ],
      "source": [
        "image3[image3<=160] = 0\n",
        "image3[image3>160] = 1\n",
        "show_binary_image(image3)"
      ]
    },
    {
      "cell_type": "code",
      "execution_count": 276,
      "metadata": {
        "colab": {
          "base_uri": "https://localhost:8080/",
          "height": 368
        },
        "id": "jVLToeEO4VDo",
        "outputId": "6fb82529-7905-42be-cd4e-13fee13a4296"
      },
      "outputs": [
        {
          "name": "stdout",
          "output_type": "stream",
          "text": [
            "10th iteration\n",
            "20th iteration\n",
            "30th iteration\n",
            "40th iteration\n",
            "50th iteration\n",
            "60th iteration\n"
          ]
        },
        {
          "name": "stderr",
          "output_type": "stream",
          "text": [
            "100%|██████████| 61/61 [00:00<00:00, 23985.43it/s]\n"
          ]
        },
        {
          "data": {
            "text/html": [
              "<style>\n",
              "      .ndarray_repr .ndarray_raw_data {\n",
              "        display: none;\n",
              "      }\n",
              "      .ndarray_repr.show_array .ndarray_raw_data {\n",
              "        display: block;\n",
              "      }\n",
              "      .ndarray_repr.show_array .ndarray_image_preview {\n",
              "        display: none;\n",
              "      }\n",
              "      </style>\n",
              "      <div id=\"id-33ba675d-a4e7-4e21-a9ae-9292ca5bc122\" class=\"ndarray_repr\"><pre>ndarray (200, 176) <button style=\"padding: 0 2px;\">show data</button></pre><img src=\"data:image/png;base64,iVBORw0KGgoAAAANSUhEUgAAALAAAADICAAAAABtrTQuAAACCUlEQVR4nO2bS3bDIBAESe5/Z7Lwy0e2LIEUZrqhapWF/ahpjbEzSKUAAAAAAAAAQBw1W6ATfMdi5lu9fM107doBBnLUC/TJonDhx7PAB2+SMnRJDzhdAOQI6YnPiEV2oeUv0BOaRMASEqPQKC7AImuX0Ag4wiNvHxZheMRJCau0cGlT+Z7BSWg3SPzODD2M/77AYN75rJhvfGxgEOmGV13pAnbj7TSO24drKeUjbLWrtLSsTlO0fsBUjFU8GunZvwRKs9turXwvyKbWlx9un0G+b+dAR0G4R1nDt91DxbfVRMe3jQjf5p+XVj+7GlETPvNR84UAuOjjmSnjmWoRJSbipc84Jj/Nhwv8a084bZNhrvcXqqWGRntrrVprtO8NHrKPPyOXvfq+zRvljV+mRYHGV5bam24JN/KbYZzqznY0O4xx7pzNHr5czlhjNDvrZFboG03jQneA75bl/0Wa9UY7GbhZdDB+NzyzCb+wdg9LnYQ2QUsMxq8l7HDrYcOvDStlK9kfjKyVHibpAuNBmGju4ufuZ2yHQcRyz3CdIC94ingFXidtb+R0jXXN9nnr61aIKulnr51ISh1w8kxwkEU7ekbHnPtKVSQl04Df40lmuN0XoWExiKmLG4Xfg62Tkx1x9voBJJa4QLqllHXqvM2NoMgYnqEnTrkbEREDAAAAAAAAAADAxHwB+ZjMVwslhowAAAAASUVORK5CYII=\" class=\"ndarray_image_preview\" /><pre class=\"ndarray_raw_data\">array([[0, 0, 0, ..., 0, 0, 0],\n",
              "       [0, 0, 0, ..., 0, 0, 0],\n",
              "       [0, 0, 0, ..., 0, 0, 0],\n",
              "       ...,\n",
              "       [0, 0, 0, ..., 0, 0, 0],\n",
              "       [0, 0, 0, ..., 0, 0, 0],\n",
              "       [0, 0, 0, ..., 0, 0, 0]], dtype=uint8)</pre></div><script>\n",
              "      (() => {\n",
              "      const titles = ['show data', 'hide data'];\n",
              "      let index = 0\n",
              "      document.querySelector('#id-33ba675d-a4e7-4e21-a9ae-9292ca5bc122 button').onclick = (e) => {\n",
              "        document.querySelector('#id-33ba675d-a4e7-4e21-a9ae-9292ca5bc122').classList.toggle('show_array');\n",
              "        index = (++index) % 2;\n",
              "        document.querySelector('#id-33ba675d-a4e7-4e21-a9ae-9292ca5bc122 button').textContent = titles[index];\n",
              "        e.preventDefault();\n",
              "        e.stopPropagation();\n",
              "      }\n",
              "      })();\n",
              "    </script>"
            ],
            "text/plain": [
              "array([[0, 0, 0, ..., 0, 0, 0],\n",
              "       [0, 0, 0, ..., 0, 0, 0],\n",
              "       [0, 0, 0, ..., 0, 0, 0],\n",
              "       ...,\n",
              "       [0, 0, 0, ..., 0, 0, 0],\n",
              "       [0, 0, 0, ..., 0, 0, 0],\n",
              "       [0, 0, 0, ..., 0, 0, 0]], dtype=uint8)"
            ]
          },
          "execution_count": 276,
          "metadata": {},
          "output_type": "execute_result"
        }
      ],
      "source": [
        "structures3 = find_structure(image3, kernel)\n",
        "get_structure_image(structures3) * 255"
      ]
    },
    {
      "cell_type": "code",
      "execution_count": 277,
      "metadata": {
        "colab": {
          "base_uri": "https://localhost:8080/",
          "height": 386
        },
        "id": "xcNVPrIc4YKp",
        "outputId": "bd9ff9c1-347c-4f4f-c1c0-839ccd408f92"
      },
      "outputs": [
        {
          "name": "stderr",
          "output_type": "stream",
          "text": [
            "\r0it [00:00, ?it/s]"
          ]
        },
        {
          "name": "stdout",
          "output_type": "stream",
          "text": [
            "0th iteration\n"
          ]
        },
        {
          "name": "stderr",
          "output_type": "stream",
          "text": [
            "11it [00:16,  2.40s/it]"
          ]
        },
        {
          "name": "stdout",
          "output_type": "stream",
          "text": [
            "10th iteration\n"
          ]
        },
        {
          "name": "stderr",
          "output_type": "stream",
          "text": [
            "21it [01:02,  5.27s/it]"
          ]
        },
        {
          "name": "stdout",
          "output_type": "stream",
          "text": [
            "20th iteration\n"
          ]
        },
        {
          "name": "stderr",
          "output_type": "stream",
          "text": [
            "31it [02:18,  8.08s/it]"
          ]
        },
        {
          "name": "stdout",
          "output_type": "stream",
          "text": [
            "30th iteration\n"
          ]
        },
        {
          "name": "stderr",
          "output_type": "stream",
          "text": [
            "41it [04:04, 11.05s/it]"
          ]
        },
        {
          "name": "stdout",
          "output_type": "stream",
          "text": [
            "40th iteration\n"
          ]
        },
        {
          "name": "stderr",
          "output_type": "stream",
          "text": [
            "51it [06:21, 14.35s/it]"
          ]
        },
        {
          "name": "stdout",
          "output_type": "stream",
          "text": [
            "50th iteration\n"
          ]
        },
        {
          "name": "stderr",
          "output_type": "stream",
          "text": [
            "61it [09:06,  8.95s/it]"
          ]
        },
        {
          "name": "stdout",
          "output_type": "stream",
          "text": [
            "60th iteration\n"
          ]
        },
        {
          "name": "stderr",
          "output_type": "stream",
          "text": [
            "\n"
          ]
        },
        {
          "data": {
            "text/html": [
              "<style>\n",
              "      .ndarray_repr .ndarray_raw_data {\n",
              "        display: none;\n",
              "      }\n",
              "      .ndarray_repr.show_array .ndarray_raw_data {\n",
              "        display: block;\n",
              "      }\n",
              "      .ndarray_repr.show_array .ndarray_image_preview {\n",
              "        display: none;\n",
              "      }\n",
              "      </style>\n",
              "      <div id=\"id-7190dd68-fa58-4597-ad17-4e472b19566b\" class=\"ndarray_repr\"><pre>ndarray (200, 176) <button style=\"padding: 0 2px;\">show data</button></pre><img src=\"data:image/png;base64,iVBORw0KGgoAAAANSUhEUgAAALAAAADICAAAAABtrTQuAAADP0lEQVR4nO2d2VYjMQxEHQ7//8vmDQLxotJiFY7uw5w5M0G+XZHdWzq0VhRFURRFURRFURSHeHgW6xFF/+BXuz/9PdD406lO37/EBx/hY7qtfXgUOejrInzS10P41TdylbALn/W1T7p5P/QQdWvJoe/j6Z+9nY31JPPNV9llWTuJTVi0oPmueqb3S6oyGqQrBz8i/DpMV49uEUbe61/jWNaQhEnXnzYU72+DMDTY94u7cQ7qWwIe+DH8IVRAnTAeVDen29rZHh7qotugFfbbG4CVlMKeey+sFsOxBGTMIAyhE3Y+i0PKvUnC3gARq4SPntf/gSNhIAISYTkswuKIWYTFxjTCUmMeYSElrEfWE0TCMjTCQTs62dndOySceSShEc71xYWTfdFbBtm64IWXUF2hCZBwfrqtSbfrgKv0rRa87kiy4tbct0Sc70NTfrusBfv++lP+U3OifWHe4VjCB+2l/0pYiPreSpKw/l7QRphjd/xMTsKG+69rYb6A3T5oZwH6TOHyBfG7ucEIG+XVfwcfr0/LL5XThJcsrBaTLnHGLYYm3TXPjUmFNQ2evgaP1VgTbrPEiIXHxszCQ2Nq4ZHxVDh9zrXWRhbcCQ+YCXMEPOCahGmZCNN2xDUJ83KJMG8L35IwDa/HxNzCg2N4auHROQfDlZ8xk5M32oRnJ5ucCS8upNAJ764GkgnvLxxTCUuucxMJyy7L0whL7yKwLGviux4swmJIhOW3lUiE5XAIA/ftOIQBSlgDcieXQhhhLBz6hQs2LkmYGAZhqAEnwrxNzJAwxEyYNuJpwqzGBC2BRTMXJo14kTCn8aolzhiDoyx7mDFjgkmHkS7s+w0ehD2RnjBKCYPATZctDLMRjp51/+Krn2zkCivewEoYQTNDKmEA1RJ0XcKBC7Gu9HUJxxH1xCLbIfE+4SDjemLxh5CIQ59YpGrj2x6xtJb357JHLB0G8EaYsK+xpdqN63BrzTdiUy1xwn7GtkryliCZeEAPOxkby/y7SYdtr8OH+a3vE5awvSvMFeACtpBTttig7DBvFZNOP6rHOqOqocnYaxlX1tH/2gUr0b8twn3/6FJQ900RRVEURVEURVEURUHOF94OXU3cWkY6AAAAAElFTkSuQmCC\" class=\"ndarray_image_preview\" /><pre class=\"ndarray_raw_data\">array([[0, 0, 0, ..., 0, 0, 0],\n",
              "       [0, 0, 0, ..., 0, 0, 0],\n",
              "       [0, 0, 0, ..., 0, 0, 0],\n",
              "       ...,\n",
              "       [0, 0, 0, ..., 0, 0, 0],\n",
              "       [0, 0, 0, ..., 0, 0, 0],\n",
              "       [0, 0, 0, ..., 0, 0, 0]], dtype=uint8)</pre></div><script>\n",
              "      (() => {\n",
              "      const titles = ['show data', 'hide data'];\n",
              "      let index = 0\n",
              "      document.querySelector('#id-7190dd68-fa58-4597-ad17-4e472b19566b button').onclick = (e) => {\n",
              "        document.querySelector('#id-7190dd68-fa58-4597-ad17-4e472b19566b').classList.toggle('show_array');\n",
              "        index = (++index) % 2;\n",
              "        document.querySelector('#id-7190dd68-fa58-4597-ad17-4e472b19566b button').textContent = titles[index];\n",
              "        e.preventDefault();\n",
              "        e.stopPropagation();\n",
              "      }\n",
              "      })();\n",
              "    </script>"
            ],
            "text/plain": [
              "array([[0, 0, 0, ..., 0, 0, 0],\n",
              "       [0, 0, 0, ..., 0, 0, 0],\n",
              "       [0, 0, 0, ..., 0, 0, 0],\n",
              "       ...,\n",
              "       [0, 0, 0, ..., 0, 0, 0],\n",
              "       [0, 0, 0, ..., 0, 0, 0],\n",
              "       [0, 0, 0, ..., 0, 0, 0]], dtype=uint8)"
            ]
          },
          "execution_count": 277,
          "metadata": {},
          "output_type": "execute_result"
        }
      ],
      "source": [
        "recovered_img3 = find_image(structures3, kernel)\n",
        "show_binary_image(recovered_img3)"
      ]
    }
  ],
  "metadata": {
    "colab": {
      "provenance": []
    },
    "kernelspec": {
      "display_name": "Python 3",
      "name": "python3"
    },
    "language_info": {
      "name": "python"
    }
  },
  "nbformat": 4,
  "nbformat_minor": 0
}
