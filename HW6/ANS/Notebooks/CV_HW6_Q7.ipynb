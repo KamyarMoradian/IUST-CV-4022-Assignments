{
  "cells": [
    {
      "cell_type": "code",
      "execution_count": null,
      "metadata": {
        "id": "B7YswzAOhsAn"
      },
      "outputs": [],
      "source": [
        "import tensorflow as tf\n",
        "from tensorflow.keras.datasets import mnist\n",
        "from tensorflow.keras.models import Sequential\n",
        "from tensorflow.keras.layers import Dense, Flatten, Input, Dropout\n",
        "from tensorflow.keras.optimizers import Adam\n",
        "from keras.utils import to_categorical\n",
        "from sklearn.preprocessing import StandardScaler\n",
        "from sklearn.metrics import accuracy_score\n",
        "import numpy as np\n",
        "import cv2\n",
        "import matplotlib.pyplot as plt"
      ]
    },
    {
      "cell_type": "code",
      "execution_count": null,
      "metadata": {
        "id": "nJ1W8iqbmSW3"
      },
      "outputs": [],
      "source": [
        "# Load the dataset\n",
        "(x_train, y_train), (x_test, y_test) = mnist.load_data()\n",
        "\n",
        "# Convert data to float32 and normalize\n",
        "x_train, x_test = x_train.astype('float32') / 255.0, x_test.astype('float32') / 255.0"
      ]
    },
    {
      "cell_type": "code",
      "execution_count": null,
      "metadata": {
        "id": "DyJCQQQPmjK_"
      },
      "outputs": [],
      "source": [
        "train_indeces = np.where((y_train == 0) | (y_train == 1) | (y_train == 2))\n",
        "test_indeces = np.where((y_test == 0) | (y_test == 1) | (y_test == 2))\n",
        "\n",
        "x_train, y_train = x_train[train_indeces], y_train[train_indeces]\n",
        "x_test, y_test = x_test[test_indeces], y_test[test_indeces]"
      ]
    },
    {
      "cell_type": "code",
      "execution_count": null,
      "metadata": {
        "id": "rTM6T2kOnjSv"
      },
      "outputs": [],
      "source": [
        "# Compute Hu moments for each image\n",
        "def calculate_hu_moments(images):\n",
        "    hu_moments = []\n",
        "    for img in images:\n",
        "        moments = cv2.moments(img)\n",
        "        hu = cv2.HuMoments(moments).flatten()\n",
        "        hu_moments.append(hu)\n",
        "    return np.array(hu_moments)\n",
        "\n",
        "hu_train = calculate_hu_moments(x_train)\n",
        "hu_test = calculate_hu_moments(x_test)"
      ]
    },
    {
      "cell_type": "code",
      "execution_count": null,
      "metadata": {
        "id": "ZHxZTLUknqOv"
      },
      "outputs": [],
      "source": [
        "# Standardize features by removing the mean and scaling to unit variance\n",
        "scaler = StandardScaler()\n",
        "hu_train = scaler.fit_transform(hu_train)\n",
        "hu_test = scaler.transform(hu_test)"
      ]
    },
    {
      "cell_type": "code",
      "execution_count": null,
      "metadata": {
        "id": "qQ-dFOsd2LiT"
      },
      "outputs": [],
      "source": [
        "# Categorize the labels\n",
        "y_train_categorical = to_categorical(y_train, 3)\n",
        "y_test_categorical = to_categorical(y_test, 3)"
      ]
    },
    {
      "cell_type": "code",
      "execution_count": null,
      "metadata": {
        "colab": {
          "base_uri": "https://localhost:8080/"
        },
        "id": "9Wx-sKw5xss6",
        "outputId": "af5b8928-01e3-499b-911e-1c250024a8a9"
      },
      "outputs": [
        {
          "name": "stdout",
          "output_type": "stream",
          "text": [
            "Model: \"sequential_13\"\n",
            "_________________________________________________________________\n",
            " Layer (type)                Output Shape              Param #   \n",
            "=================================================================\n",
            " dense_39 (Dense)            (None, 128)               1024      \n",
            "                                                                 \n",
            " dropout_7 (Dropout)         (None, 128)               0         \n",
            "                                                                 \n",
            " dense_40 (Dense)            (None, 64)                8256      \n",
            "                                                                 \n",
            " dropout_8 (Dropout)         (None, 64)                0         \n",
            "                                                                 \n",
            " dense_41 (Dense)            (None, 3)                 195       \n",
            "                                                                 \n",
            "=================================================================\n",
            "Total params: 9475 (37.01 KB)\n",
            "Trainable params: 9475 (37.01 KB)\n",
            "Non-trainable params: 0 (0.00 Byte)\n",
            "_________________________________________________________________\n"
          ]
        }
      ],
      "source": [
        "# Define the MLP model\n",
        "model = Sequential([\n",
        "    Input(shape=hu_train.shape[1]),\n",
        "    Dense(128, activation='relu'),\n",
        "    Dropout(0.2),\n",
        "    Dense(64, activation='relu'),\n",
        "    Dropout(0.2),\n",
        "    Dense(3, activation='softmax')\n",
        "])\n",
        "\n",
        "model.summary()"
      ]
    },
    {
      "cell_type": "code",
      "execution_count": null,
      "metadata": {
        "colab": {
          "base_uri": "https://localhost:8080/"
        },
        "id": "uGtBQIaGyEQn",
        "outputId": "ee9de1d5-0181-4602-b8ee-7469c8b0018a"
      },
      "outputs": [
        {
          "name": "stdout",
          "output_type": "stream",
          "text": [
            "Epoch 1/20\n",
            "524/524 [==============================] - 4s 5ms/step - loss: 0.3636 - accuracy: 0.8748 - val_loss: 0.2161 - val_accuracy: 0.9286\n",
            "Epoch 2/20\n",
            "524/524 [==============================] - 2s 4ms/step - loss: 0.2331 - accuracy: 0.9181 - val_loss: 0.2029 - val_accuracy: 0.9286\n",
            "Epoch 3/20\n",
            "524/524 [==============================] - 2s 4ms/step - loss: 0.2168 - accuracy: 0.9237 - val_loss: 0.2000 - val_accuracy: 0.9291\n",
            "Epoch 4/20\n",
            "524/524 [==============================] - 2s 4ms/step - loss: 0.2083 - accuracy: 0.9266 - val_loss: 0.1965 - val_accuracy: 0.9318\n",
            "Epoch 5/20\n",
            "524/524 [==============================] - 2s 4ms/step - loss: 0.2025 - accuracy: 0.9261 - val_loss: 0.1901 - val_accuracy: 0.9308\n",
            "Epoch 6/20\n",
            "524/524 [==============================] - 2s 4ms/step - loss: 0.2006 - accuracy: 0.9271 - val_loss: 0.1928 - val_accuracy: 0.9265\n",
            "Epoch 7/20\n",
            "524/524 [==============================] - 3s 5ms/step - loss: 0.1972 - accuracy: 0.9271 - val_loss: 0.1873 - val_accuracy: 0.9286\n",
            "Epoch 8/20\n",
            "524/524 [==============================] - 2s 4ms/step - loss: 0.1961 - accuracy: 0.9290 - val_loss: 0.1852 - val_accuracy: 0.9324\n",
            "Epoch 9/20\n",
            "524/524 [==============================] - 3s 6ms/step - loss: 0.1922 - accuracy: 0.9292 - val_loss: 0.1862 - val_accuracy: 0.9302\n",
            "Epoch 10/20\n",
            "524/524 [==============================] - 3s 6ms/step - loss: 0.1918 - accuracy: 0.9287 - val_loss: 0.1905 - val_accuracy: 0.9308\n",
            "Epoch 11/20\n",
            "524/524 [==============================] - 3s 7ms/step - loss: 0.1906 - accuracy: 0.9303 - val_loss: 0.1895 - val_accuracy: 0.9291\n",
            "Epoch 12/20\n",
            "524/524 [==============================] - 3s 5ms/step - loss: 0.1928 - accuracy: 0.9294 - val_loss: 0.1873 - val_accuracy: 0.9297\n",
            "Epoch 13/20\n",
            "524/524 [==============================] - 3s 6ms/step - loss: 0.1885 - accuracy: 0.9310 - val_loss: 0.1848 - val_accuracy: 0.9302\n",
            "Epoch 14/20\n",
            "524/524 [==============================] - 2s 3ms/step - loss: 0.1882 - accuracy: 0.9305 - val_loss: 0.1878 - val_accuracy: 0.9329\n",
            "Epoch 15/20\n",
            "524/524 [==============================] - 2s 4ms/step - loss: 0.1868 - accuracy: 0.9316 - val_loss: 0.1859 - val_accuracy: 0.9329\n",
            "Epoch 16/20\n",
            "524/524 [==============================] - 2s 4ms/step - loss: 0.1840 - accuracy: 0.9323 - val_loss: 0.1844 - val_accuracy: 0.9302\n",
            "Epoch 17/20\n",
            "524/524 [==============================] - 2s 3ms/step - loss: 0.1838 - accuracy: 0.9332 - val_loss: 0.1841 - val_accuracy: 0.9334\n",
            "Epoch 18/20\n",
            "524/524 [==============================] - 2s 3ms/step - loss: 0.1825 - accuracy: 0.9316 - val_loss: 0.1861 - val_accuracy: 0.9313\n",
            "Epoch 19/20\n",
            "524/524 [==============================] - 2s 5ms/step - loss: 0.1834 - accuracy: 0.9319 - val_loss: 0.1837 - val_accuracy: 0.9329\n",
            "Epoch 20/20\n",
            "524/524 [==============================] - 2s 4ms/step - loss: 0.1836 - accuracy: 0.9317 - val_loss: 0.1841 - val_accuracy: 0.9329\n"
          ]
        }
      ],
      "source": [
        "# Compile the model\n",
        "model.compile(optimizer=Adam(learning_rate=0.001), loss='categorical_crossentropy', metrics=['accuracy'])\n",
        "\n",
        "# Train the model\n",
        "history = model.fit(hu_train, y_train_categorical, epochs=20, batch_size=32, validation_split=0.1)"
      ]
    },
    {
      "cell_type": "code",
      "execution_count": null,
      "metadata": {
        "colab": {
          "base_uri": "https://localhost:8080/"
        },
        "id": "DhBiQ_B91NQq",
        "outputId": "4ab62863-5159-453e-ca8e-9213d511aa1a"
      },
      "outputs": [
        {
          "name": "stdout",
          "output_type": "stream",
          "text": [
            "99/99 [==============================] - 0s 4ms/step - loss: 0.1719 - accuracy: 0.9352\n",
            "Accuracy on test data: 93.52%\n"
          ]
        }
      ],
      "source": [
        "# Evaluate the model\n",
        "test_loss, test_accuracy = model.evaluate(hu_test, y_test_categorical)\n",
        "print(f'Accuracy on test data: {test_accuracy * 100:.2f}%')"
      ]
    },
    {
      "cell_type": "code",
      "execution_count": null,
      "metadata": {
        "colab": {
          "base_uri": "https://localhost:8080/",
          "height": 532
        },
        "id": "q3v8nRfr1VrL",
        "outputId": "63be3948-7df4-40a0-8545-20b34dcfc794"
      },
      "outputs": [
        {
          "name": "stdout",
          "output_type": "stream",
          "text": [
            "99/99 [==============================] - 0s 1ms/step\n"
          ]
        },
        {
          "data": {
            "image/png": "[encoded data removed]",
            "text/plain": [
              "<Figure size 1200x500 with 10 Axes>"
            ]
          },
          "metadata": {},
          "output_type": "display_data"
        }
      ],
      "source": [
        "# Predict the labels of the test set\n",
        "predicted_labels = model.predict(hu_test)\n",
        "predicted_labels = np.argmax(predicted_labels, axis=1)\n",
        "\n",
        "# Display some images with their predicted labels\n",
        "fig, axes = plt.subplots(2, 5, figsize=(12, 5))\n",
        "axes = axes.ravel()\n",
        "\n",
        "for i in range(10):\n",
        "    axes[i].imshow(x_test[i], cmap='gray')\n",
        "    axes[i].set_title(f'Pred: {predicted_labels[i]}')\n",
        "    axes[i].axis('off')\n",
        "\n",
        "plt.tight_layout()\n",
        "plt.show()"
      ]
    },
    {
      "cell_type": "code",
      "execution_count": null,
      "metadata": {
        "colab": {
          "base_uri": "https://localhost:8080/",
          "height": 514
        },
        "id": "sKliHGck2W0i",
        "outputId": "eed591f2-a47c-49b1-e6af-24d91e99793e"
      },
      "outputs": [
        {
          "data": {
            "image/png": "[encoded data removed]",
            "text/plain": [
              "<Figure size 1200x500 with 10 Axes>"
            ]
          },
          "metadata": {},
          "output_type": "display_data"
        }
      ],
      "source": [
        "wrong_labels = np.where(y_test != predicted_labels)[0]\n",
        "ten_wrong_labels = np.random.choice(wrong_labels, size=10, replace=False)\n",
        "\n",
        "# Display some images with their predicted labels\n",
        "fig, axes = plt.subplots(2, 5, figsize=(12, 5))\n",
        "axes = axes.ravel()\n",
        "\n",
        "for i in range(len(ten_wrong_labels)):\n",
        "    axes[i].imshow(x_test[ten_wrong_labels[i]], cmap='gray')\n",
        "    axes[i].set_title(f'Pred: {predicted_labels[ten_wrong_labels[i]]}, True: {y_test[ten_wrong_labels[i]]}')\n",
        "    axes[i].axis('off')\n",
        "\n",
        "plt.tight_layout()\n",
        "plt.show()"
      ]
    }
  ],
  "metadata": {
    "accelerator": "GPU",
    "colab": {
      "gpuType": "T4",
      "provenance": []
    },
    "kernelspec": {
      "display_name": "Python 3",
      "name": "python3"
    },
    "language_info": {
      "name": "python"
    }
  },
  "nbformat": 4,
  "nbformat_minor": 0
}
